{
 "cells": [
  {
   "cell_type": "code",
   "execution_count": 7,
   "metadata": {},
   "outputs": [],
   "source": [
    "import pandas as pd\n",
    "\n"
   ]
  },
  {
   "cell_type": "code",
   "execution_count": 10,
   "metadata": {},
   "outputs": [],
   "source": [
    "def acquire():\n",
    "    data = pd.read_csv('spotify_clean.csv')\n",
    "    return data\n"
   ]
  },
  {
   "cell_type": "code",
   "execution_count": 26,
   "metadata": {},
   "outputs": [
    {
     "data": {
      "text/html": [
       "<div>\n",
       "<style scoped>\n",
       "    .dataframe tbody tr th:only-of-type {\n",
       "        vertical-align: middle;\n",
       "    }\n",
       "\n",
       "    .dataframe tbody tr th {\n",
       "        vertical-align: top;\n",
       "    }\n",
       "\n",
       "    .dataframe thead th {\n",
       "        text-align: right;\n",
       "    }\n",
       "</style>\n",
       "<table border=\"1\" class=\"dataframe\">\n",
       "  <thead>\n",
       "    <tr style=\"text-align: right;\">\n",
       "      <th></th>\n",
       "      <th>Unnamed: 0</th>\n",
       "      <th>Streams</th>\n",
       "      <th>song_name</th>\n",
       "      <th>Artist</th>\n",
       "      <th>time_signature</th>\n",
       "      <th>Artist_id</th>\n",
       "      <th>Artist_popularity</th>\n",
       "      <th>Artist_follower</th>\n",
       "    </tr>\n",
       "  </thead>\n",
       "  <tbody>\n",
       "    <tr>\n",
       "      <th>1668</th>\n",
       "      <td>1712</td>\n",
       "      <td>554971</td>\n",
       "      <td>Cheap Thrills</td>\n",
       "      <td>Sia</td>\n",
       "      <td>4</td>\n",
       "      <td>5WUlDfRSoLAfcVSX1WnrxN</td>\n",
       "      <td>90</td>\n",
       "      <td>15317280</td>\n",
       "    </tr>\n",
       "    <tr>\n",
       "      <th>1669</th>\n",
       "      <td>1713</td>\n",
       "      <td>544655</td>\n",
       "      <td>HaifischNikez Allstars</td>\n",
       "      <td>LX</td>\n",
       "      <td>4</td>\n",
       "      <td>10XY9PZCJKzUFzZOdtlQLU</td>\n",
       "      <td>71</td>\n",
       "      <td>64625</td>\n",
       "    </tr>\n",
       "    <tr>\n",
       "      <th>1670</th>\n",
       "      <td>1714</td>\n",
       "      <td>536886</td>\n",
       "      <td>Stayin' Alive - From \"Saturday Night Fever\" So...</td>\n",
       "      <td>Bee Gees</td>\n",
       "      <td>4</td>\n",
       "      <td>1LZEQNv7sE11VDY3SdxQeN</td>\n",
       "      <td>79</td>\n",
       "      <td>2834719</td>\n",
       "    </tr>\n",
       "    <tr>\n",
       "      <th>1671</th>\n",
       "      <td>1715</td>\n",
       "      <td>536447</td>\n",
       "      <td>Medley da Gaiola - Dennis DJ Remix</td>\n",
       "      <td>MC Kevin o Chris</td>\n",
       "      <td>4</td>\n",
       "      <td>2UMj7NCbuqy1yUZmiSYGjJ</td>\n",
       "      <td>84</td>\n",
       "      <td>1139072</td>\n",
       "    </tr>\n",
       "    <tr>\n",
       "      <th>1672</th>\n",
       "      <td>1716</td>\n",
       "      <td>524230</td>\n",
       "      <td>Quem Pegou, Pegou - Ao Vivo</td>\n",
       "      <td>Henrique &amp; Juliano</td>\n",
       "      <td>4</td>\n",
       "      <td>3p7PcrEHaaKLJnPUGOtRlT</td>\n",
       "      <td>84</td>\n",
       "      <td>9577443</td>\n",
       "    </tr>\n",
       "  </tbody>\n",
       "</table>\n",
       "</div>"
      ],
      "text/plain": [
       "      Unnamed: 0  Streams                                          song_name  \\\n",
       "1668        1712   554971                                      Cheap Thrills   \n",
       "1669        1713   544655                             HaifischNikez Allstars   \n",
       "1670        1714   536886  Stayin' Alive - From \"Saturday Night Fever\" So...   \n",
       "1671        1715   536447                 Medley da Gaiola - Dennis DJ Remix   \n",
       "1672        1716   524230                        Quem Pegou, Pegou - Ao Vivo   \n",
       "\n",
       "                  Artist  time_signature               Artist_id  \\\n",
       "1668                 Sia               4  5WUlDfRSoLAfcVSX1WnrxN   \n",
       "1669                  LX               4  10XY9PZCJKzUFzZOdtlQLU   \n",
       "1670            Bee Gees               4  1LZEQNv7sE11VDY3SdxQeN   \n",
       "1671    MC Kevin o Chris               4  2UMj7NCbuqy1yUZmiSYGjJ   \n",
       "1672  Henrique & Juliano               4  3p7PcrEHaaKLJnPUGOtRlT   \n",
       "\n",
       "      Artist_popularity  Artist_follower  \n",
       "1668                 90         15317280  \n",
       "1669                 71            64625  \n",
       "1670                 79          2834719  \n",
       "1671                 84          1139072  \n",
       "1672                 84          9577443  "
      ]
     },
     "execution_count": 26,
     "metadata": {},
     "output_type": "execute_result"
    }
   ],
   "source": [
    "data = pd.read_csv('spotify_clean.csv')\n",
    "data.tail()"
   ]
  },
  {
   "cell_type": "code",
   "execution_count": 31,
   "metadata": {},
   "outputs": [],
   "source": [
    "def filters(df,song_name):\n",
    "    filtered=df[(df[\"song_name\"]==song_name)]\n",
    "    print(filtered)\n",
    "    return filtered"
   ]
  },
  {
   "cell_type": "code",
   "execution_count": 32,
   "metadata": {},
   "outputs": [],
   "source": [
    "def analysis(df):\n",
    "    grouped=df.groupby(\"Artist\").agg({\"Streams\":\"sum\"}).reset_index()\n",
    "    results=grouped.sort_values(\"Streams\",ascending=False).head(10)\n",
    "    print(results)\n",
    "    return results"
   ]
  },
  {
   "cell_type": "code",
   "execution_count": 34,
   "metadata": {},
   "outputs": [],
   "source": [
    "def getMax(Streams):\n",
    "    max_Streams=Streams[data.index == data.index.max()]\n"
   ]
  },
  {
   "cell_type": "code",
   "execution_count": 36,
   "metadata": {},
   "outputs": [
    {
     "ename": "TypeError",
     "evalue": "only integer scalar arrays can be converted to a scalar index",
     "output_type": "error",
     "traceback": [
      "\u001b[0;31m---------------------------------------------------------------------------\u001b[0m",
      "\u001b[0;31mTypeError\u001b[0m                                 Traceback (most recent call last)",
      "\u001b[0;32m<ipython-input-36-f590fc3566b8>\u001b[0m in \u001b[0;36m<module>\u001b[0;34m\u001b[0m\n\u001b[0;32m----> 1\u001b[0;31m \u001b[0mgetMax\u001b[0m\u001b[0;34m(\u001b[0m\u001b[0;34m\"554971\"\u001b[0m\u001b[0;34m)\u001b[0m\u001b[0;34m\u001b[0m\u001b[0;34m\u001b[0m\u001b[0m\n\u001b[0m",
      "\u001b[0;32m<ipython-input-34-6b1e6cf4b3a3>\u001b[0m in \u001b[0;36mgetMax\u001b[0;34m(Streams)\u001b[0m\n\u001b[1;32m      1\u001b[0m \u001b[0;32mdef\u001b[0m \u001b[0mgetMax\u001b[0m\u001b[0;34m(\u001b[0m\u001b[0mStreams\u001b[0m\u001b[0;34m)\u001b[0m\u001b[0;34m:\u001b[0m\u001b[0;34m\u001b[0m\u001b[0;34m\u001b[0m\u001b[0m\n\u001b[0;32m----> 2\u001b[0;31m     \u001b[0mmax_Streams\u001b[0m\u001b[0;34m=\u001b[0m\u001b[0mStreams\u001b[0m\u001b[0;34m[\u001b[0m\u001b[0mdata\u001b[0m\u001b[0;34m.\u001b[0m\u001b[0mindex\u001b[0m \u001b[0;34m==\u001b[0m \u001b[0mdata\u001b[0m\u001b[0;34m.\u001b[0m\u001b[0mindex\u001b[0m\u001b[0;34m.\u001b[0m\u001b[0mmax\u001b[0m\u001b[0;34m(\u001b[0m\u001b[0;34m)\u001b[0m\u001b[0;34m]\u001b[0m\u001b[0;34m\u001b[0m\u001b[0;34m\u001b[0m\u001b[0m\n\u001b[0m",
      "\u001b[0;31mTypeError\u001b[0m: only integer scalar arrays can be converted to a scalar index"
     ]
    }
   ],
   "source": [
    "getMax(\"554971\")"
   ]
  },
  {
   "cell_type": "code",
   "execution_count": 41,
   "metadata": {},
   "outputs": [],
   "source": [
    "def getMax(Artist):\n",
    "    max_artisty=Artist[Artist.index == Artist.index.max()]\n",
    "    return max_country"
   ]
  },
  {
   "cell_type": "code",
   "execution_count": 42,
   "metadata": {},
   "outputs": [
    {
     "ename": "AttributeError",
     "evalue": "'builtin_function_or_method' object has no attribute 'max'",
     "output_type": "error",
     "traceback": [
      "\u001b[0;31m---------------------------------------------------------------------------\u001b[0m",
      "\u001b[0;31mAttributeError\u001b[0m                            Traceback (most recent call last)",
      "\u001b[0;32m<ipython-input-42-297ab1c77845>\u001b[0m in \u001b[0;36m<module>\u001b[0;34m\u001b[0m\n\u001b[0;32m----> 1\u001b[0;31m \u001b[0mgetMax\u001b[0m\u001b[0;34m(\u001b[0m\u001b[0;34m\"Sia\"\u001b[0m\u001b[0;34m)\u001b[0m\u001b[0;34m\u001b[0m\u001b[0;34m\u001b[0m\u001b[0m\n\u001b[0m",
      "\u001b[0;32m<ipython-input-41-3c302be95e98>\u001b[0m in \u001b[0;36mgetMax\u001b[0;34m(Artist)\u001b[0m\n\u001b[1;32m      1\u001b[0m \u001b[0;32mdef\u001b[0m \u001b[0mgetMax\u001b[0m\u001b[0;34m(\u001b[0m\u001b[0mArtist\u001b[0m\u001b[0;34m)\u001b[0m\u001b[0;34m:\u001b[0m\u001b[0;34m\u001b[0m\u001b[0;34m\u001b[0m\u001b[0m\n\u001b[0;32m----> 2\u001b[0;31m     \u001b[0mmax_artisty\u001b[0m\u001b[0;34m=\u001b[0m\u001b[0mArtist\u001b[0m\u001b[0;34m[\u001b[0m\u001b[0mArtist\u001b[0m\u001b[0;34m.\u001b[0m\u001b[0mindex\u001b[0m \u001b[0;34m==\u001b[0m \u001b[0mArtist\u001b[0m\u001b[0;34m.\u001b[0m\u001b[0mindex\u001b[0m\u001b[0;34m.\u001b[0m\u001b[0mmax\u001b[0m\u001b[0;34m(\u001b[0m\u001b[0;34m)\u001b[0m\u001b[0;34m]\u001b[0m\u001b[0;34m\u001b[0m\u001b[0;34m\u001b[0m\u001b[0m\n\u001b[0m\u001b[1;32m      3\u001b[0m     \u001b[0;32mreturn\u001b[0m \u001b[0mmax_country\u001b[0m\u001b[0;34m\u001b[0m\u001b[0;34m\u001b[0m\u001b[0m\n",
      "\u001b[0;31mAttributeError\u001b[0m: 'builtin_function_or_method' object has no attribute 'max'"
     ]
    }
   ],
   "source": [
    "getMax(\"Sia\")"
   ]
  },
  {
   "cell_type": "code",
   "execution_count": null,
   "metadata": {},
   "outputs": [],
   "source": []
  }
 ],
 "metadata": {
  "kernelspec": {
   "display_name": "Python 3",
   "language": "python",
   "name": "python3"
  },
  "language_info": {
   "codemirror_mode": {
    "name": "ipython",
    "version": 3
   },
   "file_extension": ".py",
   "mimetype": "text/x-python",
   "name": "python",
   "nbconvert_exporter": "python",
   "pygments_lexer": "ipython3",
   "version": "3.7.7"
  }
 },
 "nbformat": 4,
 "nbformat_minor": 4
}
