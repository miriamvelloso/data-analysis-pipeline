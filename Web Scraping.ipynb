{
 "cells": [
  {
   "cell_type": "code",
   "execution_count": 45,
   "metadata": {},
   "outputs": [],
   "source": [
    "import requests\n",
    "from bs4 import BeautifulSoup\n",
    "from urllib.request import urlopen\n",
    "import re\n",
    "import urllib.request\n",
    "import pandas as pd\n"
   ]
  },
  {
   "cell_type": "code",
   "execution_count": 63,
   "metadata": {},
   "outputs": [
    {
     "data": {
      "text/plain": [
       "['https://d35iaml2i6ojwd.cloudfront.net/img/small?url=/images/artwork/3f9cde39beb5eca1beaa3322a7856ec2.jpg',\n",
       " 'https://d35iaml2i6ojwd.cloudfront.net/img/small?url=/images/artwork/27cba3dc3d48d9bd6a16a8172d6754de.jpg',\n",
       " 'https://d35iaml2i6ojwd.cloudfront.net/img/small?url=https://images-eu.ssl-images-amazon.com/images/I/4160i79ZVOL.jpg',\n",
       " 'https://d35iaml2i6ojwd.cloudfront.net/img/small?url=/images/artwork/285a6e9a3923372be086537f50a4af22.jpg',\n",
       " 'https://d35iaml2i6ojwd.cloudfront.net/img/small?url=/images/artwork/619287daf785b3d2075e022a0d641d33.jpg',\n",
       " 'https://d35iaml2i6ojwd.cloudfront.net/img/small?url=/images/artwork/ff331f21d63a4813289448364ccbcc1b.jpg',\n",
       " 'https://d35iaml2i6ojwd.cloudfront.net/img/small?url=/images/artwork/747ba0e9fa0338edf074ebcb470a8d40.jpg',\n",
       " 'https://d35iaml2i6ojwd.cloudfront.net/img/small?url=https://images-eu.ssl-images-amazon.com/images/I/41KwUXtf2FL.jpg',\n",
       " 'https://d35iaml2i6ojwd.cloudfront.net/img/small?url=/images/artwork/e4cc3f85ee5daf76e684cb31bc7dcb1f.jpg',\n",
       " 'https://d35iaml2i6ojwd.cloudfront.net/img/small?url=https://images-eu.ssl-images-amazon.com/images/I/41wzC1Z-GHL.jpg',\n",
       " 'https://d35iaml2i6ojwd.cloudfront.net/img/small?url=/images/artwork/2a8ab2d8a6b098e18feeff60ecbcbabb.jpg',\n",
       " 'https://d35iaml2i6ojwd.cloudfront.net/img/small?url=/images/artwork/b63a62238385106d43524ea127d1eb62.jpg',\n",
       " 'https://d35iaml2i6ojwd.cloudfront.net/img/small?url=/images/artwork/91153450efe13546f5737d2669abdb9d.jpg',\n",
       " 'https://d35iaml2i6ojwd.cloudfront.net/img/small?url=/images/artwork/363f8856725277f796cad6dfeed77221.jpg',\n",
       " 'https://d35iaml2i6ojwd.cloudfront.net/img/small?url=/images/artwork/bcc3fb9f77b7f9552a5a84de80f1b972.jpg',\n",
       " 'https://d35iaml2i6ojwd.cloudfront.net/img/small?url=/images/artwork/03a60ef1df4a2a0654c4cd7f4832dcf7.jpg',\n",
       " 'https://d35iaml2i6ojwd.cloudfront.net/img/small?url=/images/artwork/65da04a4e4243fbfcbec030e99649499.jpg',\n",
       " 'https://d35iaml2i6ojwd.cloudfront.net/img/small?url=/images/artwork/d0a7fb601ca4b85d544a72351be31168.jpg',\n",
       " 'https://d35iaml2i6ojwd.cloudfront.net/img/small?url=/images/artwork/cfaf13e3261baf8ccfc49ad1b8868d8c.jpg',\n",
       " 'https://d35iaml2i6ojwd.cloudfront.net/img/small?url=/images/artwork/898febade59906b96d88b012fd015069.jpg',\n",
       " 'https://d35iaml2i6ojwd.cloudfront.net/img/small?url=https://images-eu.ssl-images-amazon.com/images/I/51oVZ3mV%2BkL.jpg',\n",
       " 'https://d35iaml2i6ojwd.cloudfront.net/img/small?url=/images/artwork/3e541ac51c88dea6a111552361f1b1da.jpg',\n",
       " 'https://d35iaml2i6ojwd.cloudfront.net/img/small?url=https://images-eu.ssl-images-amazon.com/images/I/51oVZ3mV%2BkL.jpg',\n",
       " 'https://d35iaml2i6ojwd.cloudfront.net/img/small?url=/images/artwork/16f732cb0548f4fd62498acf815cbb3b.jpg',\n",
       " 'https://d35iaml2i6ojwd.cloudfront.net/img/small?url=https://images-eu.ssl-images-amazon.com/images/I/41F7KcZgoGL.jpg',\n",
       " 'https://d35iaml2i6ojwd.cloudfront.net/img/small?url=https://images-eu.ssl-images-amazon.com/images/I/41UfF56QsNL.jpg',\n",
       " 'https://d35iaml2i6ojwd.cloudfront.net/img/small?url=/images/artwork/004d2b9c296ba4be4ac6679ae1188d30.jpg',\n",
       " 'https://d35iaml2i6ojwd.cloudfront.net/img/small?url=/images/artwork/b5507f6994fec31af96c1668a92424ad.jpg',\n",
       " 'https://d35iaml2i6ojwd.cloudfront.net/img/small?url=/images/artwork/502968741cbf393e388e69c5a19fcbb1.jpg',\n",
       " 'https://d35iaml2i6ojwd.cloudfront.net/img/small?url=/images/artwork/0af14c5ebeb3f95d2977c78c6fd762d3.jpg',\n",
       " 'https://d35iaml2i6ojwd.cloudfront.net/img/small?url=/images/artwork/5925fe8792c990e124544c3ed2b55ccb.jpg',\n",
       " 'https://d35iaml2i6ojwd.cloudfront.net/img/small?url=/images/artwork/0e0cd602fd143108c0e6d7735eeabf09.jpg',\n",
       " 'https://d35iaml2i6ojwd.cloudfront.net/img/small?url=/images/artwork/2865c90dd52848e6c3ce6bfdd7d88830.jpg',\n",
       " 'https://d35iaml2i6ojwd.cloudfront.net/img/small?url=/images/artwork/2676b11fe9d58489d8dbd62f52f9e0c0.jpg',\n",
       " 'https://d35iaml2i6ojwd.cloudfront.net/img/small?url=/images/artwork/6e1eb4f16d299adba27eeb41ecb0f7da.jpg',\n",
       " 'https://d35iaml2i6ojwd.cloudfront.net/img/small?url=https://images-eu.ssl-images-amazon.com/images/I/51LNiED384L.jpg',\n",
       " 'https://d35iaml2i6ojwd.cloudfront.net/img/small?url=https://images-eu.ssl-images-amazon.com/images/I/51pqr6QDqqL.jpg',\n",
       " 'https://d35iaml2i6ojwd.cloudfront.net/img/small?url=/images/artwork/9027248926da321e8af771d5bb494608.jpg',\n",
       " 'https://d35iaml2i6ojwd.cloudfront.net/img/small?url=https://images-eu.ssl-images-amazon.com/images/I/51VZhnT1hiL.jpg',\n",
       " 'https://d35iaml2i6ojwd.cloudfront.net/img/small?url=/images/artwork/256f015f13beaefa02dc90c5455b2d89.jpg',\n",
       " 'https://d35iaml2i6ojwd.cloudfront.net/img/small?url=/images/artwork/19a9c42b97994319ab011dc87e4df26f.jpg',\n",
       " 'https://d35iaml2i6ojwd.cloudfront.net/img/small?url=/images/artwork/487fe48c7820f995b66e968da878c29c.jpg',\n",
       " 'https://d35iaml2i6ojwd.cloudfront.net/img/small?url=https://images-eu.ssl-images-amazon.com/images/I/41NH-p5VspL.jpg',\n",
       " 'https://d35iaml2i6ojwd.cloudfront.net/img/small?url=/images/artwork/acecd7f3c7d36564ec5bbfb9eb66912c.jpg',\n",
       " 'https://d35iaml2i6ojwd.cloudfront.net/img/small?url=/images/artwork/883f77dd5577fbee3640c6478861e494.jpg',\n",
       " 'https://d35iaml2i6ojwd.cloudfront.net/img/small?url=/images/artwork/dcdd3876bbed33f09a52f65d81e8cd76.jpg',\n",
       " 'https://d35iaml2i6ojwd.cloudfront.net/img/small?url=/images/artwork/69c4d79ef65bb8e91db7ade0de1bc076.jpg',\n",
       " 'https://d35iaml2i6ojwd.cloudfront.net/img/small?url=/images/artwork/269803a12e3b575c5e157b9825b40225.jpg',\n",
       " 'https://d35iaml2i6ojwd.cloudfront.net/img/small?url=/images/artwork/1e9c2757c8b1cf00a2961babadead300.jpg',\n",
       " 'https://d35iaml2i6ojwd.cloudfront.net/img/small?url=/images/artwork/3061cbee63104de18f9a7bed3e26b2e4.jpg',\n",
       " 'https://d35iaml2i6ojwd.cloudfront.net/img/small?url=/images/artwork/bd13470285a7c2626d8b7c034a149cfd.jpg',\n",
       " 'https://d35iaml2i6ojwd.cloudfront.net/img/small?url=/images/artwork/d3fc709bf2f1d97df2702de9ad185e61.jpg',\n",
       " 'https://d35iaml2i6ojwd.cloudfront.net/img/small?url=https://images-eu.ssl-images-amazon.com/images/I/51oVZ3mV%2BkL.jpg',\n",
       " 'https://d35iaml2i6ojwd.cloudfront.net/img/small?url=/images/artwork/fb18f120084d3ca0b04f1a3c438574b9.jpg',\n",
       " 'https://d35iaml2i6ojwd.cloudfront.net/img/small?url=/images/artwork/7259f72fa037c3faeae50a151c974812.jpg',\n",
       " 'https://d35iaml2i6ojwd.cloudfront.net/img/small?url=https://images-eu.ssl-images-amazon.com/images/I/51fMsw1oXdL.jpg',\n",
       " 'https://d35iaml2i6ojwd.cloudfront.net/img/small?url=https://images-eu.ssl-images-amazon.com/images/I/51NFWR1QR2L.jpg',\n",
       " 'https://d35iaml2i6ojwd.cloudfront.net/img/small?url=/images/artwork/59457b4b77f6054067c9738e68cf7e49.jpg',\n",
       " 'https://d35iaml2i6ojwd.cloudfront.net/img/small?url=/images/artwork/ed5e85eca0ec3ad6b871ee6bd3689587.jpg',\n",
       " 'https://d35iaml2i6ojwd.cloudfront.net/img/small?url=https://images-eu.ssl-images-amazon.com/images/I/41HWvZwVn3L.jpg',\n",
       " 'https://d35iaml2i6ojwd.cloudfront.net/img/small?url=http://ecx.images-amazon.com/images/I/51W64EGb3CL.jpg',\n",
       " 'https://d35iaml2i6ojwd.cloudfront.net/img/small?url=http://ecx.images-amazon.com/images/I/51GRavmfgNL.jpg',\n",
       " 'https://d35iaml2i6ojwd.cloudfront.net/img/small?url=/images/artwork/dca1479189963e2e8d32f1a63723512e.jpg',\n",
       " 'https://d35iaml2i6ojwd.cloudfront.net/img/small?url=https://images-eu.ssl-images-amazon.com/images/I/31HuquASxWL.jpg',\n",
       " 'https://d35iaml2i6ojwd.cloudfront.net/img/small?url=https://images-eu.ssl-images-amazon.com/images/I/5143kLOcTvL.jpg',\n",
       " 'https://d35iaml2i6ojwd.cloudfront.net/img/small?url=/images/artwork/2927e5330ac439f10a519ce565f6d526.jpg',\n",
       " 'https://d35iaml2i6ojwd.cloudfront.net/img/small?url=https://images-eu.ssl-images-amazon.com/images/I/510wfBwog5L.jpg',\n",
       " 'https://d35iaml2i6ojwd.cloudfront.net/img/small?url=/images/artwork/b29b955f50bf992a5e958bc40ecb929d.jpg',\n",
       " 'https://d35iaml2i6ojwd.cloudfront.net/img/small?url=/images/artwork/0d50139dd75c4dba6bf06cb67c58b1d6.jpg',\n",
       " 'https://d35iaml2i6ojwd.cloudfront.net/img/small?url=/images/artwork/a0de2527e7a832178400ae8be18ea4a5.jpg',\n",
       " 'https://d35iaml2i6ojwd.cloudfront.net/img/small?url=/images/artwork/9486eb2115453bfe4ff08af9958e624a.jpg',\n",
       " 'https://d35iaml2i6ojwd.cloudfront.net/img/small?url=/images/artwork/2b9a71a6c8e26eeb52dcbdd507557a58.jpg',\n",
       " 'https://d35iaml2i6ojwd.cloudfront.net/img/small?url=/images/artwork/b09eccff193eafbdc7ae5959352d7cc1.jpg',\n",
       " 'https://d35iaml2i6ojwd.cloudfront.net/img/small?url=https://images-eu.ssl-images-amazon.com/images/I/51inO4DBH0L.jpg',\n",
       " 'https://d35iaml2i6ojwd.cloudfront.net/img/small?url=/images/artwork/fd389afd301d97331ba70078b06ff3a7.jpg',\n",
       " 'https://d35iaml2i6ojwd.cloudfront.net/img/small?url=/images/artwork/a91df18174c9a0ea8239ec7b24cce1e2.jpg',\n",
       " 'https://d35iaml2i6ojwd.cloudfront.net/img/small?url=https://images-eu.ssl-images-amazon.com/images/I/51o1qxdjpfL.jpg',\n",
       " 'https://d35iaml2i6ojwd.cloudfront.net/img/small?url=/images/artwork/54fa377accf0d8c596c960aa8b79dc59.jpg',\n",
       " 'https://d35iaml2i6ojwd.cloudfront.net/img/small?url=/images/artwork/c562b3cde66c66b6bd44ec5f88b2b0a9.jpg',\n",
       " 'https://d35iaml2i6ojwd.cloudfront.net/img/small?url=/images/artwork/4a40c26b370c63ae33e26ca27c23a325.jpg',\n",
       " 'https://d35iaml2i6ojwd.cloudfront.net/img/small?url=/images/artwork/cc49d1470d3ca7475d3056e31eef3cfc.jpg',\n",
       " 'https://d35iaml2i6ojwd.cloudfront.net/img/small?url=https://images-eu.ssl-images-amazon.com/images/I/41YgWBjM4aL.jpg',\n",
       " 'https://d35iaml2i6ojwd.cloudfront.net/img/small?url=/images/artwork/feb1124a7141bf4fdc1d7ca81d61a86f.jpg',\n",
       " 'https://d35iaml2i6ojwd.cloudfront.net/img/small?url=/images/artwork/bc07be4c709fc6e794b031b51b027759.jpg',\n",
       " 'https://d35iaml2i6ojwd.cloudfront.net/img/small?url=/images/artwork/6ea9fc2f8c70f68fc4e543ea11a7489c.jpg',\n",
       " 'https://d35iaml2i6ojwd.cloudfront.net/img/small?url=/images/artwork/5dc34ceff28178077ce08a400c9b2979.jpg',\n",
       " 'https://d35iaml2i6ojwd.cloudfront.net/img/small?url=/images/artwork/01444df9ae7dce4d32e0acc86bf27209.jpg',\n",
       " 'https://d35iaml2i6ojwd.cloudfront.net/img/small?url=/images/artwork/632b8e20aeb37920bdd555f52aabfe29.jpg',\n",
       " 'https://d35iaml2i6ojwd.cloudfront.net/img/small?url=/images/artwork/6334a36bbfc4c851523ba1facad0924e.jpg',\n",
       " 'https://d35iaml2i6ojwd.cloudfront.net/img/small?url=/images/artwork/04419163a3f636090dc4b9461deca8c0.jpg',\n",
       " 'https://d35iaml2i6ojwd.cloudfront.net/img/small?url=https://images-eu.ssl-images-amazon.com/images/I/51cJCSjzVLL.jpg',\n",
       " 'https://d35iaml2i6ojwd.cloudfront.net/img/small?url=https://images-eu.ssl-images-amazon.com/images/I/513FYXui40L.jpg',\n",
       " 'https://d35iaml2i6ojwd.cloudfront.net/img/small?url=/images/artwork/8faae17556aeb63c931d6d0812212253.jpg',\n",
       " 'https://d35iaml2i6ojwd.cloudfront.net/img/small?url=https://images-eu.ssl-images-amazon.com/images/I/31hpYGP%2BgLL.jpg',\n",
       " 'https://d35iaml2i6ojwd.cloudfront.net/img/small?url=/images/artwork/ee9d53a82ae1a279621c86ec91a04bed.jpg',\n",
       " 'https://d35iaml2i6ojwd.cloudfront.net/img/small?url=http://ecx.images-amazon.com/images/I/51JKFE3LyHL.jpg',\n",
       " 'https://d35iaml2i6ojwd.cloudfront.net/img/small?url=/images/artwork/a77adbfb7884c0940b57aa14fb25b636.jpg',\n",
       " '/media/658108/radio-1-official-chart-promo-button.jpg?width=392&height=150&mode=stretch',\n",
       " '/media/658440/jessie-ware-2020.jpg?width=154&height=77&mode=stretch',\n",
       " '/media/658320/dababy-kirk-press.jpg?width=154&height=77&mode=stretch',\n",
       " '/media/658439/number-1-top-selling-live-albums.jpg?width=154&height=77&mode=stretch',\n",
       " '/media/658437/liam-gallagher-mtv-unplugged-official-number-1-award-1100.jpg?width=154&height=77&mode=stretch',\n",
       " '/media/658438/irish-women-in-harmony-1100.jpg?width=154&height=77&mode=stretch',\n",
       " '/media/653592/liam-gallagher-7.jpg?width=154&height=77&mode=stretch',\n",
       " '/media/657365/harry-styles-love-on-tour.jpg?width=154&height=77&mode=stretch']"
      ]
     },
     "execution_count": 63,
     "metadata": {},
     "output_type": "execute_result"
    }
   ],
   "source": [
    "html = urlopen('https://www.officialcharts.com/charts/end-of-year-singles-chart/')\n",
    "bs = BeautifulSoup(html, 'html.parser')\n",
    "images = bs.find_all('img', {'src':re.compile('.jpg')})\n",
    "x = [image['src'] for image in images]\n",
    "x\n"
   ]
  },
  {
   "cell_type": "code",
   "execution_count": 64,
   "metadata": {},
   "outputs": [],
   "source": [
    "#0-lewi\n",
    "#1 -Lil Nas\n",
    "#3-Ed Sheeram\n",
    "#5-Ava Max\n",
    "#9 Shawn Mendez\n",
    "#15 Ariana Grande\n",
    "#17 Post Malone\n",
    "#19 Khalid\n",
    "#63 Queen\n",
    "\n",
    "\n",
    "image_url = list(x[i].strip() for i in [0,1,3,5,9,13,15,17,19,62])"
   ]
  },
  {
   "cell_type": "code",
   "execution_count": 65,
   "metadata": {},
   "outputs": [
    {
     "data": {
      "text/plain": [
       "['https://d35iaml2i6ojwd.cloudfront.net/img/small?url=/images/artwork/3f9cde39beb5eca1beaa3322a7856ec2.jpg',\n",
       " 'https://d35iaml2i6ojwd.cloudfront.net/img/small?url=/images/artwork/27cba3dc3d48d9bd6a16a8172d6754de.jpg',\n",
       " 'https://d35iaml2i6ojwd.cloudfront.net/img/small?url=/images/artwork/285a6e9a3923372be086537f50a4af22.jpg',\n",
       " 'https://d35iaml2i6ojwd.cloudfront.net/img/small?url=/images/artwork/ff331f21d63a4813289448364ccbcc1b.jpg',\n",
       " 'https://d35iaml2i6ojwd.cloudfront.net/img/small?url=https://images-eu.ssl-images-amazon.com/images/I/41wzC1Z-GHL.jpg',\n",
       " 'https://d35iaml2i6ojwd.cloudfront.net/img/small?url=/images/artwork/363f8856725277f796cad6dfeed77221.jpg',\n",
       " 'https://d35iaml2i6ojwd.cloudfront.net/img/small?url=/images/artwork/03a60ef1df4a2a0654c4cd7f4832dcf7.jpg',\n",
       " 'https://d35iaml2i6ojwd.cloudfront.net/img/small?url=/images/artwork/d0a7fb601ca4b85d544a72351be31168.jpg',\n",
       " 'https://d35iaml2i6ojwd.cloudfront.net/img/small?url=/images/artwork/898febade59906b96d88b012fd015069.jpg',\n",
       " 'https://d35iaml2i6ojwd.cloudfront.net/img/small?url=/images/artwork/dca1479189963e2e8d32f1a63723512e.jpg']"
      ]
     },
     "execution_count": 65,
     "metadata": {},
     "output_type": "execute_result"
    }
   ],
   "source": [
    "image_url"
   ]
  },
  {
   "cell_type": "code",
   "execution_count": 66,
   "metadata": {},
   "outputs": [
    {
     "name": "stdout",
     "output_type": "stream",
     "text": [
      "Downloading file:3f9cde39beb5eca1beaa3322a7856ec2.jpg\n",
      "Downloading file:27cba3dc3d48d9bd6a16a8172d6754de.jpg\n",
      "Downloading file:285a6e9a3923372be086537f50a4af22.jpg\n",
      "Downloading file:ff331f21d63a4813289448364ccbcc1b.jpg\n",
      "Downloading file:41wzC1Z-GHL.jpg\n",
      "Downloading file:363f8856725277f796cad6dfeed77221.jpg\n",
      "Downloading file:03a60ef1df4a2a0654c4cd7f4832dcf7.jpg\n",
      "Downloading file:d0a7fb601ca4b85d544a72351be31168.jpg\n",
      "Downloading file:898febade59906b96d88b012fd015069.jpg\n",
      "Downloading file:dca1479189963e2e8d32f1a63723512e.jpg\n"
     ]
    }
   ],
   "source": [
    "for img in image_url:\n",
    " file_name = img.split('/')[-1]\n",
    " print(\"Downloading file:%s\"%file_name)\n",
    " r = requests.get(img, stream=True)\n",
    " with open(file_name, 'wb') as f:\n",
    "    for chunk in r:\n",
    "       f.write(chunk)"
   ]
  },
  {
   "cell_type": "code",
   "execution_count": 9,
   "metadata": {},
   "outputs": [
    {
     "name": "stdout",
     "output_type": "stream",
     "text": [
      "<Response [200]>\n",
      "[<td>Taylor Swift</td>, <td>185</td>, <td>Kanye West</td>, <td>150</td>, <td>Ed Sheeran</td>, <td>110</td>, <td>The Eagles</td>, <td>100</td>, <td>Elton John</td>, <td>84</td>, <td>Jay-Z</td>, <td>81</td>, <td>Beyoncé Knowles</td>, <td>81</td>, <td>Drake</td>, <td>75</td>, <td>Sean Combs</td>, <td>70</td>, <td>Metallica</td>, <td>68.5</td>, <td>Rihanna</td>, <td>62</td>, <td>Travis Scott</td>, <td>58</td>, <td>Katy Perry</td>, <td>57.5</td>, <td>Justin Timberlake</td>, <td>57.5</td>, <td>BTS</td>, <td>57</td>, <td>P!nk</td>, <td>57</td>, <td>Billy Joel</td>, <td>52</td>, <td>Bruno Mars</td>, <td>51.5</td>, <td>Jimmy Buffett</td>, <td>50</td>, <td>Eminem</td>, <td>50</td>, <td>Fleetwood Mac</td>, <td>49</td>, <td>Ariana Grande</td>, <td>48</td>, <td>Paul McCartney</td>, <td>48</td>, <td>The Chainsmokers</td>, <td>46</td>, <td>Guns N' Roses</td>, <td>44</td>, <td>Jennifer Lopez</td>, <td>43</td>, <td>Luke Bryan</td>, <td>42.5</td>, <td>Rolling Stones</td>, <td>41</td>, <td>DJ Khaled</td>, <td>40</td>, <td>Marshmello</td>, <td>40</td>, <td class=\"table__td table__tdPrices text-left\"><div class=\"h6 text-bold\">\n",
      "                        Our services\n",
      "                    </div><small>Click the question mark for further information</small></td>, <td class=\"table__td table__tdPrices\"><p class=\"textBox\">\n",
      "                        Free\n",
      "                    </p></td>, <td class=\"table__td table__tdHighlight table__tdPrices\"><p class=\"textBox\"><b>\n",
      "                                                        $39 per month*\n",
      "                        </b><br><span class=\"font-size-xxs\">\n",
      "                                (billed annually)\n",
      "                            </span></br></p></td>, <td class=\"table__td\"><i class=\"fa fa-check text-color--primary\"></i></td>, <td class=\"table__td\"><i class=\"fa fa-check text-color--green-1\"></i></td>, <td class=\"table__td\"><i class=\"fa fa-close text-color--gray-light\"></i></td>, <td class=\"table__td\"><i class=\"fa fa-check text-color--green-1\"></i></td>, <td class=\"table__tdSeperator\" colspan=\"4\"></td>, <td class=\"table__td\"><i class=\"fa fa-check text-color--primary\"></i></td>, <td class=\"table__td\"><i class=\"fa fa-check text-color--green-1\"></i></td>, <td class=\"table__td\"><i class=\"fa fa-close text-color--gray-light\"></i></td>, <td class=\"table__td\"><i class=\"fa fa-check text-color--green-1\"></i></td>, <td class=\"table__td\"><i class=\"fa fa-close text-color--gray-light\"></i></td>, <td class=\"table__td\"><i class=\"fa fa-check text-color--green-1\"></i></td>, <td class=\"table__td\"></td>, <td class=\"table__td padding-all-20\"><a class=\"button button--primary button--medium colOne width100\" href=\"/register/\n",
      "                        \">\n",
      "                            Register\n",
      "                        </a></td>, <td class=\"table__td padding-all-20\"><a class=\"button button--green button--medium width100\" href=\"/register/premiumaccount/\">\n",
      "                            Purchase now\n",
      "                        </a></td>]\n"
     ]
    }
   ],
   "source": [
    "url= \"https://www.statista.com/statistics/282151/highest-paid-musicians/\"\n",
    "html=requests.get(url)\n",
    "print(html)\n",
    "soup=BeautifulSoup(html.text)\n",
    "revenues=soup.select(\"td\")\n",
    "print(revenues)"
   ]
  },
  {
   "cell_type": "code",
   "execution_count": 37,
   "metadata": {
    "scrolled": true
   },
   "outputs": [
    {
     "data": {
      "text/plain": [
       "['Taylor Swift',\n",
       " '185',\n",
       " 'Kanye West',\n",
       " '150',\n",
       " 'Ed Sheeran',\n",
       " '110',\n",
       " 'The Eagles',\n",
       " '100',\n",
       " 'Elton John',\n",
       " '84',\n",
       " 'Jay-Z',\n",
       " '81',\n",
       " 'Beyoncé Knowles',\n",
       " '81',\n",
       " 'Drake',\n",
       " '75',\n",
       " 'Sean Combs',\n",
       " '70',\n",
       " 'Metallica',\n",
       " '68.5',\n",
       " 'Rihanna',\n",
       " '62',\n",
       " 'Travis Scott',\n",
       " '58',\n",
       " 'Katy Perry',\n",
       " '57.5',\n",
       " 'Justin Timberlake',\n",
       " '57.5',\n",
       " 'BTS',\n",
       " '57',\n",
       " 'P!nk',\n",
       " '57',\n",
       " 'Billy Joel',\n",
       " '52',\n",
       " 'Bruno Mars',\n",
       " '51.5',\n",
       " 'Jimmy Buffett',\n",
       " '50',\n",
       " 'Eminem',\n",
       " '50',\n",
       " 'Fleetwood Mac',\n",
       " '49',\n",
       " 'Ariana Grande',\n",
       " '48',\n",
       " 'Paul McCartney',\n",
       " '48',\n",
       " 'The Chainsmokers',\n",
       " '46',\n",
       " \"Guns N' Roses\",\n",
       " '44',\n",
       " 'Jennifer Lopez',\n",
       " '43',\n",
       " 'Luke Bryan',\n",
       " '42.5',\n",
       " 'Rolling Stones',\n",
       " '41',\n",
       " 'DJ Khaled',\n",
       " '40',\n",
       " 'Marshmello',\n",
       " '40']"
      ]
     },
     "execution_count": 37,
     "metadata": {},
     "output_type": "execute_result"
    }
   ],
   "source": [
    "artist_filtered = [revenue.text for revenue in revenues]\n",
    "artists = artist_filtered[0:60]\n",
    "artists"
   ]
  },
  {
   "cell_type": "code",
   "execution_count": 42,
   "metadata": {},
   "outputs": [],
   "source": [
    "odd = [y for x,y in enumerate(artists) if x%2 != 0]\n",
    "even = [y for x,y in enumerate(artists) if x%2 == 0]\n",
    "    "
   ]
  },
  {
   "cell_type": "code",
   "execution_count": 50,
   "metadata": {},
   "outputs": [],
   "source": [
    "data_tuples = list(zip(even,odd))"
   ]
  },
  {
   "cell_type": "code",
   "execution_count": 62,
   "metadata": {},
   "outputs": [
    {
     "data": {
      "text/html": [
       "<div>\n",
       "<style scoped>\n",
       "    .dataframe tbody tr th:only-of-type {\n",
       "        vertical-align: middle;\n",
       "    }\n",
       "\n",
       "    .dataframe tbody tr th {\n",
       "        vertical-align: top;\n",
       "    }\n",
       "\n",
       "    .dataframe thead th {\n",
       "        text-align: right;\n",
       "    }\n",
       "</style>\n",
       "<table border=\"1\" class=\"dataframe\">\n",
       "  <thead>\n",
       "    <tr style=\"text-align: right;\">\n",
       "      <th></th>\n",
       "      <th>Name</th>\n",
       "      <th>Revenues</th>\n",
       "    </tr>\n",
       "  </thead>\n",
       "  <tbody>\n",
       "    <tr>\n",
       "      <th>0</th>\n",
       "      <td>Taylor Swift</td>\n",
       "      <td>185</td>\n",
       "    </tr>\n",
       "    <tr>\n",
       "      <th>1</th>\n",
       "      <td>Kanye West</td>\n",
       "      <td>150</td>\n",
       "    </tr>\n",
       "    <tr>\n",
       "      <th>2</th>\n",
       "      <td>Ed Sheeran</td>\n",
       "      <td>110</td>\n",
       "    </tr>\n",
       "    <tr>\n",
       "      <th>3</th>\n",
       "      <td>The Eagles</td>\n",
       "      <td>100</td>\n",
       "    </tr>\n",
       "    <tr>\n",
       "      <th>4</th>\n",
       "      <td>Elton John</td>\n",
       "      <td>84</td>\n",
       "    </tr>\n",
       "  </tbody>\n",
       "</table>\n",
       "</div>"
      ],
      "text/plain": [
       "           Name Revenues\n",
       "0  Taylor Swift      185\n",
       "1    Kanye West      150\n",
       "2    Ed Sheeran      110\n",
       "3    The Eagles      100\n",
       "4    Elton John       84"
      ]
     },
     "execution_count": 62,
     "metadata": {},
     "output_type": "execute_result"
    }
   ],
   "source": [
    "df = pd.DataFrame(data_tuples, columns=['Name','Revenues'])\n",
    "df.head()"
   ]
  },
  {
   "cell_type": "code",
   "execution_count": 59,
   "metadata": {},
   "outputs": [],
   "source": [
    "df_import = pd.read_csv('src/artists_clean.csv',encoding='latin-1')"
   ]
  },
  {
   "cell_type": "code",
   "execution_count": 60,
   "metadata": {
    "scrolled": true
   },
   "outputs": [
    {
     "data": {
      "text/html": [
       "<div>\n",
       "<style scoped>\n",
       "    .dataframe tbody tr th:only-of-type {\n",
       "        vertical-align: middle;\n",
       "    }\n",
       "\n",
       "    .dataframe tbody tr th {\n",
       "        vertical-align: top;\n",
       "    }\n",
       "\n",
       "    .dataframe thead th {\n",
       "        text-align: right;\n",
       "    }\n",
       "</style>\n",
       "<table border=\"1\" class=\"dataframe\">\n",
       "  <thead>\n",
       "    <tr style=\"text-align: right;\">\n",
       "      <th></th>\n",
       "      <th>Unnamed: 0</th>\n",
       "      <th>Name</th>\n",
       "      <th>num_songs</th>\n",
       "      <th>Streams</th>\n",
       "      <th>BirthDate</th>\n",
       "      <th>Country</th>\n",
       "      <th>Gender</th>\n",
       "      <th>Revenues</th>\n",
       "    </tr>\n",
       "  </thead>\n",
       "  <tbody>\n",
       "    <tr>\n",
       "      <th>0</th>\n",
       "      <td>2</td>\n",
       "      <td>Ariana Grande</td>\n",
       "      <td>28</td>\n",
       "      <td>3339800155</td>\n",
       "      <td>1993-06-26</td>\n",
       "      <td>United States</td>\n",
       "      <td>Female</td>\n",
       "      <td>48</td>\n",
       "    </tr>\n",
       "    <tr>\n",
       "      <th>1</th>\n",
       "      <td>3</td>\n",
       "      <td>Ed Sheeran</td>\n",
       "      <td>25</td>\n",
       "      <td>3118912731</td>\n",
       "      <td>1991-02-17</td>\n",
       "      <td>United Kingdom</td>\n",
       "      <td>Male</td>\n",
       "      <td>110</td>\n",
       "    </tr>\n",
       "  </tbody>\n",
       "</table>\n",
       "</div>"
      ],
      "text/plain": [
       "   Unnamed: 0           Name  num_songs     Streams   BirthDate  \\\n",
       "0           2  Ariana Grande         28  3339800155  1993-06-26   \n",
       "1           3     Ed Sheeran         25  3118912731  1991-02-17   \n",
       "\n",
       "          Country  Gender Revenues  \n",
       "0   United States  Female       48  \n",
       "1  United Kingdom    Male      110  "
      ]
     },
     "execution_count": 60,
     "metadata": {},
     "output_type": "execute_result"
    }
   ],
   "source": [
    "df_merge = pd.merge(df_import, df, on='Name')\n",
    "df_merge"
   ]
  },
  {
   "cell_type": "code",
   "execution_count": null,
   "metadata": {},
   "outputs": [],
   "source": []
  }
 ],
 "metadata": {
  "kernelspec": {
   "display_name": "Python 3",
   "language": "python",
   "name": "python3"
  },
  "language_info": {
   "codemirror_mode": {
    "name": "ipython",
    "version": 3
   },
   "file_extension": ".py",
   "mimetype": "text/x-python",
   "name": "python",
   "nbconvert_exporter": "python",
   "pygments_lexer": "ipython3",
   "version": "3.7.7"
  }
 },
 "nbformat": 4,
 "nbformat_minor": 4
}
