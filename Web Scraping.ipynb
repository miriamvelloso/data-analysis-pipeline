{
 "cells": [
  {
   "cell_type": "code",
   "execution_count": 2,
   "metadata": {},
   "outputs": [],
   "source": [
    "import requests\n",
    "from bs4 import BeautifulSoup\n",
    "from urllib.request import urlopen\n",
    "import re\n",
    "import urllib.request\n"
   ]
  },
  {
   "cell_type": "code",
   "execution_count": 15,
   "metadata": {},
   "outputs": [],
   "source": [
    "html = urlopen('https://www.officialcharts.com/charts/end-of-year-singles-chart/')\n",
    "bs = BeautifulSoup(html, 'html.parser')\n",
    "images = bs.find_all('img', {'src':re.compile('.jpg')})\n",
    "x = [image['src'] for image in images]\n"
   ]
  },
  {
   "cell_type": "code",
   "execution_count": 18,
   "metadata": {},
   "outputs": [],
   "source": [
    "image_url = list(x[i].strip() for i in [0,3,5,7,9,15,19,36,16])"
   ]
  },
  {
   "cell_type": "code",
   "execution_count": 19,
   "metadata": {},
   "outputs": [
    {
     "data": {
      "text/plain": [
       "['https://d35iaml2i6ojwd.cloudfront.net/img/small?url=/images/artwork/3f9cde39beb5eca1beaa3322a7856ec2.jpg',\n",
       " 'https://d35iaml2i6ojwd.cloudfront.net/img/small?url=/images/artwork/285a6e9a3923372be086537f50a4af22.jpg',\n",
       " 'https://d35iaml2i6ojwd.cloudfront.net/img/small?url=/images/artwork/ff331f21d63a4813289448364ccbcc1b.jpg',\n",
       " 'https://d35iaml2i6ojwd.cloudfront.net/img/small?url=https://images-eu.ssl-images-amazon.com/images/I/41KwUXtf2FL.jpg',\n",
       " 'https://d35iaml2i6ojwd.cloudfront.net/img/small?url=https://images-eu.ssl-images-amazon.com/images/I/41wzC1Z-GHL.jpg',\n",
       " 'https://d35iaml2i6ojwd.cloudfront.net/img/small?url=/images/artwork/03a60ef1df4a2a0654c4cd7f4832dcf7.jpg',\n",
       " 'https://d35iaml2i6ojwd.cloudfront.net/img/small?url=/images/artwork/898febade59906b96d88b012fd015069.jpg',\n",
       " 'https://d35iaml2i6ojwd.cloudfront.net/img/small?url=https://images-eu.ssl-images-amazon.com/images/I/51pqr6QDqqL.jpg',\n",
       " 'https://d35iaml2i6ojwd.cloudfront.net/img/small?url=/images/artwork/65da04a4e4243fbfcbec030e99649499.jpg']"
      ]
     },
     "execution_count": 19,
     "metadata": {},
     "output_type": "execute_result"
    }
   ],
   "source": [
    "image_url"
   ]
  },
  {
   "cell_type": "code",
   "execution_count": null,
   "metadata": {},
   "outputs": [],
   "source": []
  },
  {
   "cell_type": "code",
   "execution_count": 20,
   "metadata": {},
   "outputs": [
    {
     "name": "stdout",
     "output_type": "stream",
     "text": [
      "Downloading file:3f9cde39beb5eca1beaa3322a7856ec2.jpg\n",
      "Downloading file:285a6e9a3923372be086537f50a4af22.jpg\n",
      "Downloading file:ff331f21d63a4813289448364ccbcc1b.jpg\n",
      "Downloading file:41KwUXtf2FL.jpg\n",
      "Downloading file:41wzC1Z-GHL.jpg\n",
      "Downloading file:03a60ef1df4a2a0654c4cd7f4832dcf7.jpg\n",
      "Downloading file:898febade59906b96d88b012fd015069.jpg\n",
      "Downloading file:51pqr6QDqqL.jpg\n",
      "Downloading file:65da04a4e4243fbfcbec030e99649499.jpg\n"
     ]
    }
   ],
   "source": [
    "for img in image_url:\n",
    " file_name = img.split('/')[-1]\n",
    " print(\"Downloading file:%s\"%file_name)\n",
    " r = requests.get(img, stream=True)\n",
    " with open(file_name, 'wb') as f:\n",
    "    for chunk in r:\n",
    "       f.write(chunk)"
   ]
  },
  {
   "cell_type": "code",
   "execution_count": 9,
   "metadata": {},
   "outputs": [
    {
     "name": "stdout",
     "output_type": "stream",
     "text": [
      "<Response [200]>\n",
      "[<td>Taylor Swift</td>, <td>185</td>, <td>Kanye West</td>, <td>150</td>, <td>Ed Sheeran</td>, <td>110</td>, <td>The Eagles</td>, <td>100</td>, <td>Elton John</td>, <td>84</td>, <td>Jay-Z</td>, <td>81</td>, <td>Beyoncé Knowles</td>, <td>81</td>, <td>Drake</td>, <td>75</td>, <td>Sean Combs</td>, <td>70</td>, <td>Metallica</td>, <td>68.5</td>, <td>Rihanna</td>, <td>62</td>, <td>Travis Scott</td>, <td>58</td>, <td>Katy Perry</td>, <td>57.5</td>, <td>Justin Timberlake</td>, <td>57.5</td>, <td>BTS</td>, <td>57</td>, <td>P!nk</td>, <td>57</td>, <td>Billy Joel</td>, <td>52</td>, <td>Bruno Mars</td>, <td>51.5</td>, <td>Jimmy Buffett</td>, <td>50</td>, <td>Eminem</td>, <td>50</td>, <td>Fleetwood Mac</td>, <td>49</td>, <td>Ariana Grande</td>, <td>48</td>, <td>Paul McCartney</td>, <td>48</td>, <td>The Chainsmokers</td>, <td>46</td>, <td>Guns N' Roses</td>, <td>44</td>, <td>Jennifer Lopez</td>, <td>43</td>, <td>Luke Bryan</td>, <td>42.5</td>, <td>Rolling Stones</td>, <td>41</td>, <td>DJ Khaled</td>, <td>40</td>, <td>Marshmello</td>, <td>40</td>, <td class=\"table__td table__tdPrices text-left\"><div class=\"h6 text-bold\">\n",
      "                        Our services\n",
      "                    </div><small>Click the question mark for further information</small></td>, <td class=\"table__td table__tdPrices\"><p class=\"textBox\">\n",
      "                        Free\n",
      "                    </p></td>, <td class=\"table__td table__tdHighlight table__tdPrices\"><p class=\"textBox\"><b>\n",
      "                                                        $39 per month*\n",
      "                        </b><br><span class=\"font-size-xxs\">\n",
      "                                (billed annually)\n",
      "                            </span></br></p></td>, <td class=\"table__td\"><i class=\"fa fa-check text-color--primary\"></i></td>, <td class=\"table__td\"><i class=\"fa fa-check text-color--green-1\"></i></td>, <td class=\"table__td\"><i class=\"fa fa-close text-color--gray-light\"></i></td>, <td class=\"table__td\"><i class=\"fa fa-check text-color--green-1\"></i></td>, <td class=\"table__tdSeperator\" colspan=\"4\"></td>, <td class=\"table__td\"><i class=\"fa fa-check text-color--primary\"></i></td>, <td class=\"table__td\"><i class=\"fa fa-check text-color--green-1\"></i></td>, <td class=\"table__td\"><i class=\"fa fa-close text-color--gray-light\"></i></td>, <td class=\"table__td\"><i class=\"fa fa-check text-color--green-1\"></i></td>, <td class=\"table__td\"><i class=\"fa fa-close text-color--gray-light\"></i></td>, <td class=\"table__td\"><i class=\"fa fa-check text-color--green-1\"></i></td>, <td class=\"table__td\"></td>, <td class=\"table__td padding-all-20\"><a class=\"button button--primary button--medium colOne width100\" href=\"/register/\n",
      "                        \">\n",
      "                            Register\n",
      "                        </a></td>, <td class=\"table__td padding-all-20\"><a class=\"button button--green button--medium width100\" href=\"/register/premiumaccount/\">\n",
      "                            Purchase now\n",
      "                        </a></td>]\n"
     ]
    }
   ],
   "source": [
    "url= \"https://www.statista.com/statistics/282151/highest-paid-musicians/\"\n",
    "html=requests.get(url)\n",
    "print(html)\n",
    "soup=BeautifulSoup(html.text)\n",
    "revenues=soup.select(\"td\")\n",
    "print(revenues)"
   ]
  },
  {
   "cell_type": "code",
   "execution_count": 26,
   "metadata": {
    "scrolled": true
   },
   "outputs": [
    {
     "data": {
      "text/plain": [
       "['Taylor Swift',\n",
       " '185',\n",
       " 'Kanye West',\n",
       " '150',\n",
       " 'Ed Sheeran',\n",
       " '110',\n",
       " 'The Eagles',\n",
       " '100',\n",
       " 'Elton John',\n",
       " '84',\n",
       " 'Jay-Z',\n",
       " '81',\n",
       " 'Beyoncé Knowles',\n",
       " '81',\n",
       " 'Drake',\n",
       " '75',\n",
       " 'Sean Combs',\n",
       " '70',\n",
       " 'Metallica',\n",
       " '68.5',\n",
       " 'Rihanna',\n",
       " '62',\n",
       " 'Travis Scott',\n",
       " '58',\n",
       " 'Katy Perry',\n",
       " '57.5',\n",
       " 'Justin Timberlake',\n",
       " '57.5',\n",
       " 'BTS',\n",
       " '57',\n",
       " 'P!nk',\n",
       " '57',\n",
       " 'Billy Joel',\n",
       " '52',\n",
       " 'Bruno Mars',\n",
       " '51.5',\n",
       " 'Jimmy Buffett',\n",
       " '50',\n",
       " 'Eminem',\n",
       " '50',\n",
       " 'Fleetwood Mac',\n",
       " '49',\n",
       " 'Ariana Grande',\n",
       " '48',\n",
       " 'Paul McCartney',\n",
       " '48',\n",
       " 'The Chainsmokers',\n",
       " '46',\n",
       " \"Guns N' Roses\",\n",
       " '44',\n",
       " 'Jennifer Lopez',\n",
       " '43',\n",
       " 'Luke Bryan',\n",
       " '42.5',\n",
       " 'Rolling Stones',\n",
       " '41',\n",
       " 'DJ Khaled',\n",
       " '40',\n",
       " 'Marshmello',\n",
       " '40']"
      ]
     },
     "execution_count": 26,
     "metadata": {},
     "output_type": "execute_result"
    }
   ],
   "source": [
    "artist_filtered = [revenue.text for revenue in revenues]\n",
    "artist_filtered[0:60]"
   ]
  },
  {
   "cell_type": "code",
   "execution_count": 20,
   "metadata": {},
   "outputs": [
    {
     "data": {
      "text/plain": [
       "'Taylor Swift:185'"
      ]
     },
     "execution_count": 20,
     "metadata": {},
     "output_type": "execute_result"
    }
   ],
   "source": [
    "\":\".join(x[0:2])\n"
   ]
  },
  {
   "cell_type": "code",
   "execution_count": null,
   "metadata": {},
   "outputs": [],
   "source": [
    "def revenues(x):\n",
    "    for y in x:\n",
    "        \n",
    "    "
   ]
  }
 ],
 "metadata": {
  "kernelspec": {
   "display_name": "Python 3",
   "language": "python",
   "name": "python3"
  },
  "language_info": {
   "codemirror_mode": {
    "name": "ipython",
    "version": 3
   },
   "file_extension": ".py",
   "mimetype": "text/x-python",
   "name": "python",
   "nbconvert_exporter": "python",
   "pygments_lexer": "ipython3",
   "version": "3.7.7"
  }
 },
 "nbformat": 4,
 "nbformat_minor": 4
}
