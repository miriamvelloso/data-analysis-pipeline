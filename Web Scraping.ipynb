{
 "cells": [
  {
   "cell_type": "code",
   "execution_count": 14,
   "metadata": {},
   "outputs": [],
   "source": [
    "import requests\n",
    "from bs4 import BeautifulSoup\n",
    "from urllib.request import urlopen\n",
    "import re\n",
    "import urllib.request\n"
   ]
  },
  {
   "cell_type": "code",
   "execution_count": 15,
   "metadata": {},
   "outputs": [],
   "source": [
    "html = urlopen('https://www.officialcharts.com/charts/end-of-year-singles-chart/')\n",
    "bs = BeautifulSoup(html, 'html.parser')\n",
    "images = bs.find_all('img', {'src':re.compile('.jpg')})\n",
    "x = [image['src'] for image in images]\n"
   ]
  },
  {
   "cell_type": "code",
   "execution_count": 18,
   "metadata": {},
   "outputs": [],
   "source": [
    "image_url = list(x[i].strip() for i in [0,3,5,7,9,15,19,36,16])"
   ]
  },
  {
   "cell_type": "code",
   "execution_count": 19,
   "metadata": {},
   "outputs": [
    {
     "data": {
      "text/plain": [
       "['https://d35iaml2i6ojwd.cloudfront.net/img/small?url=/images/artwork/3f9cde39beb5eca1beaa3322a7856ec2.jpg',\n",
       " 'https://d35iaml2i6ojwd.cloudfront.net/img/small?url=/images/artwork/285a6e9a3923372be086537f50a4af22.jpg',\n",
       " 'https://d35iaml2i6ojwd.cloudfront.net/img/small?url=/images/artwork/ff331f21d63a4813289448364ccbcc1b.jpg',\n",
       " 'https://d35iaml2i6ojwd.cloudfront.net/img/small?url=https://images-eu.ssl-images-amazon.com/images/I/41KwUXtf2FL.jpg',\n",
       " 'https://d35iaml2i6ojwd.cloudfront.net/img/small?url=https://images-eu.ssl-images-amazon.com/images/I/41wzC1Z-GHL.jpg',\n",
       " 'https://d35iaml2i6ojwd.cloudfront.net/img/small?url=/images/artwork/03a60ef1df4a2a0654c4cd7f4832dcf7.jpg',\n",
       " 'https://d35iaml2i6ojwd.cloudfront.net/img/small?url=/images/artwork/898febade59906b96d88b012fd015069.jpg',\n",
       " 'https://d35iaml2i6ojwd.cloudfront.net/img/small?url=https://images-eu.ssl-images-amazon.com/images/I/51pqr6QDqqL.jpg',\n",
       " 'https://d35iaml2i6ojwd.cloudfront.net/img/small?url=/images/artwork/65da04a4e4243fbfcbec030e99649499.jpg']"
      ]
     },
     "execution_count": 19,
     "metadata": {},
     "output_type": "execute_result"
    }
   ],
   "source": [
    "image_url"
   ]
  },
  {
   "cell_type": "code",
   "execution_count": null,
   "metadata": {},
   "outputs": [],
   "source": []
  },
  {
   "cell_type": "code",
   "execution_count": 20,
   "metadata": {},
   "outputs": [
    {
     "name": "stdout",
     "output_type": "stream",
     "text": [
      "Downloading file:3f9cde39beb5eca1beaa3322a7856ec2.jpg\n",
      "Downloading file:285a6e9a3923372be086537f50a4af22.jpg\n",
      "Downloading file:ff331f21d63a4813289448364ccbcc1b.jpg\n",
      "Downloading file:41KwUXtf2FL.jpg\n",
      "Downloading file:41wzC1Z-GHL.jpg\n",
      "Downloading file:03a60ef1df4a2a0654c4cd7f4832dcf7.jpg\n",
      "Downloading file:898febade59906b96d88b012fd015069.jpg\n",
      "Downloading file:51pqr6QDqqL.jpg\n",
      "Downloading file:65da04a4e4243fbfcbec030e99649499.jpg\n"
     ]
    }
   ],
   "source": [
    "for img in image_url:\n",
    " file_name = img.split('/')[-1]\n",
    " print(\"Downloading file:%s\"%file_name)\n",
    " r = requests.get(img, stream=True)\n",
    " with open(file_name, 'wb') as f:\n",
    "    for chunk in r:\n",
    "       f.write(chunk)"
   ]
  },
  {
   "cell_type": "code",
   "execution_count": null,
   "metadata": {},
   "outputs": [],
   "source": []
  }
 ],
 "metadata": {
  "kernelspec": {
   "display_name": "Python 3",
   "language": "python",
   "name": "python3"
  },
  "language_info": {
   "codemirror_mode": {
    "name": "ipython",
    "version": 3
   },
   "file_extension": ".py",
   "mimetype": "text/x-python",
   "name": "python",
   "nbconvert_exporter": "python",
   "pygments_lexer": "ipython3",
   "version": "3.7.7"
  }
 },
 "nbformat": 4,
 "nbformat_minor": 4
}
