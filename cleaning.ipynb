{
 "cells": [
  {
   "cell_type": "markdown",
   "metadata": {},
   "source": [
    "# DATA CLEANING"
   ]
  },
  {
   "cell_type": "markdown",
   "metadata": {},
   "source": [
    "`1. Importamos modulos `"
   ]
  },
  {
   "cell_type": "code",
   "execution_count": 2,
   "metadata": {},
   "outputs": [],
   "source": [
    "import pandas as pd\n",
    "import re\n",
    "import numpy as np\n",
    "import requests\n",
    "from bs4 import BeautifulSoup\n",
    "import matplotlib.pyplot as plt\n"
   ]
  },
  {
   "cell_type": "markdown",
   "metadata": {},
   "source": [
    "`2. Leemos el documento csv`"
   ]
  },
  {
   "cell_type": "code",
   "execution_count": 3,
   "metadata": {},
   "outputs": [
    {
     "data": {
      "text/html": [
       "<div>\n",
       "<style scoped>\n",
       "    .dataframe tbody tr th:only-of-type {\n",
       "        vertical-align: middle;\n",
       "    }\n",
       "\n",
       "    .dataframe tbody tr th {\n",
       "        vertical-align: top;\n",
       "    }\n",
       "\n",
       "    .dataframe thead th {\n",
       "        text-align: right;\n",
       "    }\n",
       "</style>\n",
       "<table border=\"1\" class=\"dataframe\">\n",
       "  <thead>\n",
       "    <tr style=\"text-align: right;\">\n",
       "      <th></th>\n",
       "      <th>Country</th>\n",
       "      <th>Rank</th>\n",
       "      <th>Track_id</th>\n",
       "      <th>Streams</th>\n",
       "      <th>Track Name</th>\n",
       "      <th>Artist</th>\n",
       "      <th>URL</th>\n",
       "      <th>acousticness</th>\n",
       "      <th>danceability</th>\n",
       "      <th>energy</th>\n",
       "      <th>...</th>\n",
       "      <th>valence</th>\n",
       "      <th>tempo</th>\n",
       "      <th>time_signature</th>\n",
       "      <th>duration_ms</th>\n",
       "      <th>key</th>\n",
       "      <th>mode</th>\n",
       "      <th>Artist_id</th>\n",
       "      <th>Artist_popularity</th>\n",
       "      <th>Artist_follower</th>\n",
       "      <th>Artist_img</th>\n",
       "    </tr>\n",
       "  </thead>\n",
       "  <tbody>\n",
       "    <tr>\n",
       "      <th>0</th>\n",
       "      <td>global</td>\n",
       "      <td>1.0</td>\n",
       "      <td>25sgk305KZfyuqVBQIahim</td>\n",
       "      <td>1166185736</td>\n",
       "      <td>Sweet but Psycho</td>\n",
       "      <td>Ava Max</td>\n",
       "      <td>https://open.spotify.com/track/25sgk305KZfyuqV...</td>\n",
       "      <td>0.0691</td>\n",
       "      <td>0.719</td>\n",
       "      <td>0.704</td>\n",
       "      <td>...</td>\n",
       "      <td>0.628</td>\n",
       "      <td>133.002</td>\n",
       "      <td>4</td>\n",
       "      <td>187436</td>\n",
       "      <td>1</td>\n",
       "      <td>1</td>\n",
       "      <td>4npEfmQ6YuiwW1GpUmaq3F</td>\n",
       "      <td>87</td>\n",
       "      <td>1025358</td>\n",
       "      <td>https://i.scdn.co/image/4b914c6470c8458674538a...</td>\n",
       "    </tr>\n",
       "    <tr>\n",
       "      <th>1</th>\n",
       "      <td>global</td>\n",
       "      <td>2.0</td>\n",
       "      <td>2Fxmhks0bxGSBdJ92vM42m</td>\n",
       "      <td>1052358787</td>\n",
       "      <td>bad guy</td>\n",
       "      <td>Billie Eilish</td>\n",
       "      <td>https://open.spotify.com/track/2Fxmhks0bxGSBdJ...</td>\n",
       "      <td>0.3280</td>\n",
       "      <td>0.701</td>\n",
       "      <td>0.425</td>\n",
       "      <td>...</td>\n",
       "      <td>0.562</td>\n",
       "      <td>135.128</td>\n",
       "      <td>4</td>\n",
       "      <td>194088</td>\n",
       "      <td>7</td>\n",
       "      <td>1</td>\n",
       "      <td>6qqNVTkY8uBg9cP3Jd7DAH</td>\n",
       "      <td>98</td>\n",
       "      <td>18867904</td>\n",
       "      <td>https://i.scdn.co/image/2622edec99d68d1d141886...</td>\n",
       "    </tr>\n",
       "    <tr>\n",
       "      <th>2</th>\n",
       "      <td>global</td>\n",
       "      <td>3.0</td>\n",
       "      <td>6ocbgoVGwYJhOv1GgI9NsF</td>\n",
       "      <td>789094044</td>\n",
       "      <td>7 rings</td>\n",
       "      <td>Ariana Grande</td>\n",
       "      <td>https://open.spotify.com/track/6ocbgoVGwYJhOv1...</td>\n",
       "      <td>0.5920</td>\n",
       "      <td>0.778</td>\n",
       "      <td>0.317</td>\n",
       "      <td>...</td>\n",
       "      <td>0.327</td>\n",
       "      <td>140.048</td>\n",
       "      <td>4</td>\n",
       "      <td>178627</td>\n",
       "      <td>1</td>\n",
       "      <td>0</td>\n",
       "      <td>66CXWjxzNUsdJxJ2JdwvnR</td>\n",
       "      <td>97</td>\n",
       "      <td>40958727</td>\n",
       "      <td>https://i.scdn.co/image/b1dfbe843b0b9f54ab2e58...</td>\n",
       "    </tr>\n",
       "    <tr>\n",
       "      <th>3</th>\n",
       "      <td>global</td>\n",
       "      <td>4.0</td>\n",
       "      <td>1rgnBhdG2JDFTbYkYRZAku</td>\n",
       "      <td>764208309</td>\n",
       "      <td>Dance Monkey</td>\n",
       "      <td>Tones and I</td>\n",
       "      <td>https://open.spotify.com/track/1rgnBhdG2JDFTbY...</td>\n",
       "      <td>0.6880</td>\n",
       "      <td>0.825</td>\n",
       "      <td>0.593</td>\n",
       "      <td>...</td>\n",
       "      <td>0.540</td>\n",
       "      <td>98.078</td>\n",
       "      <td>4</td>\n",
       "      <td>209755</td>\n",
       "      <td>6</td>\n",
       "      <td>0</td>\n",
       "      <td>2NjfBq1NflQcKSeiDooVjY</td>\n",
       "      <td>92</td>\n",
       "      <td>484241</td>\n",
       "      <td>https://i.scdn.co/image/c128f5ef4d210a67610acd...</td>\n",
       "    </tr>\n",
       "    <tr>\n",
       "      <th>4</th>\n",
       "      <td>global</td>\n",
       "      <td>5.0</td>\n",
       "      <td>6v3KW9xbzN5yKLt9YKDYA2</td>\n",
       "      <td>763064359</td>\n",
       "      <td>SeÃ±orita</td>\n",
       "      <td>Shawn Mendes</td>\n",
       "      <td>https://open.spotify.com/track/6v3KW9xbzN5yKLt...</td>\n",
       "      <td>0.0392</td>\n",
       "      <td>0.759</td>\n",
       "      <td>0.548</td>\n",
       "      <td>...</td>\n",
       "      <td>0.749</td>\n",
       "      <td>116.967</td>\n",
       "      <td>4</td>\n",
       "      <td>190800</td>\n",
       "      <td>9</td>\n",
       "      <td>0</td>\n",
       "      <td>7n2wHs1TKAczGzO7Dd2rGr</td>\n",
       "      <td>94</td>\n",
       "      <td>23152263</td>\n",
       "      <td>https://i.scdn.co/image/6bd59cfbd3e1e6394af710...</td>\n",
       "    </tr>\n",
       "  </tbody>\n",
       "</table>\n",
       "<p>5 rows × 24 columns</p>\n",
       "</div>"
      ],
      "text/plain": [
       "  Country  Rank                Track_id     Streams        Track Name  \\\n",
       "0  global   1.0  25sgk305KZfyuqVBQIahim  1166185736  Sweet but Psycho   \n",
       "1  global   2.0  2Fxmhks0bxGSBdJ92vM42m  1052358787           bad guy   \n",
       "2  global   3.0  6ocbgoVGwYJhOv1GgI9NsF   789094044           7 rings   \n",
       "3  global   4.0  1rgnBhdG2JDFTbYkYRZAku   764208309      Dance Monkey   \n",
       "4  global   5.0  6v3KW9xbzN5yKLt9YKDYA2   763064359         SeÃ±orita   \n",
       "\n",
       "          Artist                                                URL  \\\n",
       "0        Ava Max  https://open.spotify.com/track/25sgk305KZfyuqV...   \n",
       "1  Billie Eilish  https://open.spotify.com/track/2Fxmhks0bxGSBdJ...   \n",
       "2  Ariana Grande  https://open.spotify.com/track/6ocbgoVGwYJhOv1...   \n",
       "3    Tones and I  https://open.spotify.com/track/1rgnBhdG2JDFTbY...   \n",
       "4   Shawn Mendes  https://open.spotify.com/track/6v3KW9xbzN5yKLt...   \n",
       "\n",
       "   acousticness  danceability  energy  ...  valence    tempo  time_signature  \\\n",
       "0        0.0691         0.719   0.704  ...    0.628  133.002               4   \n",
       "1        0.3280         0.701   0.425  ...    0.562  135.128               4   \n",
       "2        0.5920         0.778   0.317  ...    0.327  140.048               4   \n",
       "3        0.6880         0.825   0.593  ...    0.540   98.078               4   \n",
       "4        0.0392         0.759   0.548  ...    0.749  116.967               4   \n",
       "\n",
       "   duration_ms  key  mode               Artist_id  Artist_popularity  \\\n",
       "0       187436    1     1  4npEfmQ6YuiwW1GpUmaq3F                 87   \n",
       "1       194088    7     1  6qqNVTkY8uBg9cP3Jd7DAH                 98   \n",
       "2       178627    1     0  66CXWjxzNUsdJxJ2JdwvnR                 97   \n",
       "3       209755    6     0  2NjfBq1NflQcKSeiDooVjY                 92   \n",
       "4       190800    9     0  7n2wHs1TKAczGzO7Dd2rGr                 94   \n",
       "\n",
       "   Artist_follower                                         Artist_img  \n",
       "0          1025358  https://i.scdn.co/image/4b914c6470c8458674538a...  \n",
       "1         18867904  https://i.scdn.co/image/2622edec99d68d1d141886...  \n",
       "2         40958727  https://i.scdn.co/image/b1dfbe843b0b9f54ab2e58...  \n",
       "3           484241  https://i.scdn.co/image/c128f5ef4d210a67610acd...  \n",
       "4         23152263  https://i.scdn.co/image/6bd59cfbd3e1e6394af710...  \n",
       "\n",
       "[5 rows x 24 columns]"
      ]
     },
     "execution_count": 3,
     "metadata": {},
     "output_type": "execute_result"
    }
   ],
   "source": [
    "df = pd.read_csv('Input/data.csv', encoding='latin-1')\n",
    "df.head()"
   ]
  },
  {
   "cell_type": "markdown",
   "metadata": {},
   "source": [
    "`3. Vemos cual es la longitud del documento csv`"
   ]
  },
  {
   "cell_type": "code",
   "execution_count": 4,
   "metadata": {
    "scrolled": false
   },
   "outputs": [
    {
     "data": {
      "text/plain": [
       "(1717, 24)"
      ]
     },
     "execution_count": 4,
     "metadata": {},
     "output_type": "execute_result"
    }
   ],
   "source": [
    "df.shape"
   ]
  },
  {
   "cell_type": "markdown",
   "metadata": {},
   "source": [
    "`3. eliminamos columnas que no necesitamos `"
   ]
  },
  {
   "cell_type": "code",
   "execution_count": 18,
   "metadata": {},
   "outputs": [],
   "source": [
    "data = df.drop(columns=['Country','Rank', 'Track_id','time_signature','URL','Artist_id','acousticness','danceability','energy','valence','tempo','mode','duration_ms','instrumentalness','loudness','speechiness','key','liveness', 'Artist_img'] )"
   ]
  },
  {
   "cell_type": "code",
   "execution_count": 19,
   "metadata": {
    "scrolled": false
   },
   "outputs": [
    {
     "data": {
      "text/plain": [
       "Index(['Streams', 'Track Name', 'Artist', 'Artist_popularity',\n",
       "       'Artist_follower'],\n",
       "      dtype='object')"
      ]
     },
     "execution_count": 19,
     "metadata": {},
     "output_type": "execute_result"
    }
   ],
   "source": [
    "data.columns"
   ]
  },
  {
   "cell_type": "code",
   "execution_count": 20,
   "metadata": {},
   "outputs": [
    {
     "data": {
      "text/plain": [
       "Post Malone      45\n",
       "Juice WRLD       31\n",
       "Ariana Grande    28\n",
       "Billie Eilish    27\n",
       "Taylor Swift     27\n",
       "Trippie Redd     25\n",
       "Ed Sheeran       25\n",
       "Drake            24\n",
       "Khalid           24\n",
       "BeyoncÃ©         23\n",
       "Name: Artist, dtype: int64"
      ]
     },
     "execution_count": 20,
     "metadata": {},
     "output_type": "execute_result"
    }
   ],
   "source": [
    "data['Artist'].value_counts().head(10)"
   ]
  },
  {
   "cell_type": "code",
   "execution_count": 21,
   "metadata": {
    "scrolled": true
   },
   "outputs": [
    {
     "data": {
      "text/plain": [
       "Streams              0\n",
       "Track Name           0\n",
       "Artist               0\n",
       "Artist_popularity    0\n",
       "Artist_follower      0\n",
       "dtype: int64"
      ]
     },
     "execution_count": 21,
     "metadata": {},
     "output_type": "execute_result"
    }
   ],
   "source": [
    "data.isnull().sum()"
   ]
  },
  {
   "cell_type": "markdown",
   "metadata": {},
   "source": [
    "`4. Creamos dos nuevas columnas para luego realizar el filtrado a través de los followers y los streams`"
   ]
  },
  {
   "cell_type": "code",
   "execution_count": 22,
   "metadata": {},
   "outputs": [],
   "source": [
    "data['Streams1'] = pd.qcut(data['Streams'], q=4, labels=['very low', 'low', 'medium', 'high'])\n",
    "data['Artist_follower'] = pd.qcut(data['Artist_follower'], q=4, labels=['very low', 'low', 'medium', 'high'])"
   ]
  },
  {
   "cell_type": "code",
   "execution_count": 30,
   "metadata": {},
   "outputs": [],
   "source": [
    "def conditions(data):\n",
    "    if (data['Artist'] == \"Ava Max\") or (data['Artist'] == \"Billie Eilish\") or (data['Artist'] == \"Ariana Grande\") or (data['Artist'] == \"Ed Sheeram\") or (data['Artist'] == \"Post Malone\") or (data['Artist'] == \"Lil Nas X\") or (data['Artist'] == \"Khalid\") or (data['Artist'] == \"Queen\") or (data['Artist'] == \"XXXTENTACION\") or (data['Artist'] == \"Shawn Mendes\"):\n",
    "        return 1\n",
    "    else:\n",
    "        return 0"
   ]
  },
  {
   "cell_type": "code",
   "execution_count": 31,
   "metadata": {},
   "outputs": [],
   "source": [
    "data['Top10'] = data.apply(conditions, axis=1)"
   ]
  },
  {
   "cell_type": "code",
   "execution_count": 32,
   "metadata": {
    "scrolled": true
   },
   "outputs": [
    {
     "data": {
      "text/html": [
       "<div>\n",
       "<style scoped>\n",
       "    .dataframe tbody tr th:only-of-type {\n",
       "        vertical-align: middle;\n",
       "    }\n",
       "\n",
       "    .dataframe tbody tr th {\n",
       "        vertical-align: top;\n",
       "    }\n",
       "\n",
       "    .dataframe thead th {\n",
       "        text-align: right;\n",
       "    }\n",
       "</style>\n",
       "<table border=\"1\" class=\"dataframe\">\n",
       "  <thead>\n",
       "    <tr style=\"text-align: right;\">\n",
       "      <th></th>\n",
       "      <th>Streams</th>\n",
       "      <th>Track Name</th>\n",
       "      <th>Artist</th>\n",
       "      <th>Artist_popularity</th>\n",
       "      <th>Artist_follower</th>\n",
       "      <th>Streams1</th>\n",
       "      <th>Top10</th>\n",
       "    </tr>\n",
       "  </thead>\n",
       "  <tbody>\n",
       "    <tr>\n",
       "      <th>0</th>\n",
       "      <td>1166185736</td>\n",
       "      <td>Sweet but Psycho</td>\n",
       "      <td>Ava Max</td>\n",
       "      <td>87</td>\n",
       "      <td>very low</td>\n",
       "      <td>high</td>\n",
       "      <td>1</td>\n",
       "    </tr>\n",
       "    <tr>\n",
       "      <th>1</th>\n",
       "      <td>1052358787</td>\n",
       "      <td>bad guy</td>\n",
       "      <td>Billie Eilish</td>\n",
       "      <td>98</td>\n",
       "      <td>high</td>\n",
       "      <td>high</td>\n",
       "      <td>1</td>\n",
       "    </tr>\n",
       "    <tr>\n",
       "      <th>2</th>\n",
       "      <td>789094044</td>\n",
       "      <td>7 rings</td>\n",
       "      <td>Ariana Grande</td>\n",
       "      <td>97</td>\n",
       "      <td>high</td>\n",
       "      <td>high</td>\n",
       "      <td>1</td>\n",
       "    </tr>\n",
       "    <tr>\n",
       "      <th>3</th>\n",
       "      <td>764208309</td>\n",
       "      <td>Dance Monkey</td>\n",
       "      <td>Tones and I</td>\n",
       "      <td>92</td>\n",
       "      <td>very low</td>\n",
       "      <td>high</td>\n",
       "      <td>0</td>\n",
       "    </tr>\n",
       "    <tr>\n",
       "      <th>4</th>\n",
       "      <td>763064359</td>\n",
       "      <td>SeÃ±orita</td>\n",
       "      <td>Shawn Mendes</td>\n",
       "      <td>94</td>\n",
       "      <td>high</td>\n",
       "      <td>high</td>\n",
       "      <td>1</td>\n",
       "    </tr>\n",
       "    <tr>\n",
       "      <th>...</th>\n",
       "      <td>...</td>\n",
       "      <td>...</td>\n",
       "      <td>...</td>\n",
       "      <td>...</td>\n",
       "      <td>...</td>\n",
       "      <td>...</td>\n",
       "      <td>...</td>\n",
       "    </tr>\n",
       "    <tr>\n",
       "      <th>1712</th>\n",
       "      <td>554971</td>\n",
       "      <td>Cheap Thrills</td>\n",
       "      <td>Sia</td>\n",
       "      <td>90</td>\n",
       "      <td>high</td>\n",
       "      <td>very low</td>\n",
       "      <td>0</td>\n",
       "    </tr>\n",
       "    <tr>\n",
       "      <th>1713</th>\n",
       "      <td>544655</td>\n",
       "      <td>HaifischNikez Allstars</td>\n",
       "      <td>LX</td>\n",
       "      <td>71</td>\n",
       "      <td>very low</td>\n",
       "      <td>very low</td>\n",
       "      <td>0</td>\n",
       "    </tr>\n",
       "    <tr>\n",
       "      <th>1714</th>\n",
       "      <td>536886</td>\n",
       "      <td>Stayin' Alive - From \"Saturday Night Fever\" So...</td>\n",
       "      <td>Bee Gees</td>\n",
       "      <td>79</td>\n",
       "      <td>low</td>\n",
       "      <td>very low</td>\n",
       "      <td>0</td>\n",
       "    </tr>\n",
       "    <tr>\n",
       "      <th>1715</th>\n",
       "      <td>536447</td>\n",
       "      <td>Medley da Gaiola - Dennis DJ Remix</td>\n",
       "      <td>MC Kevin o Chris</td>\n",
       "      <td>84</td>\n",
       "      <td>very low</td>\n",
       "      <td>very low</td>\n",
       "      <td>0</td>\n",
       "    </tr>\n",
       "    <tr>\n",
       "      <th>1716</th>\n",
       "      <td>524230</td>\n",
       "      <td>Quem Pegou, Pegou - Ao Vivo</td>\n",
       "      <td>Henrique &amp; Juliano</td>\n",
       "      <td>84</td>\n",
       "      <td>medium</td>\n",
       "      <td>very low</td>\n",
       "      <td>0</td>\n",
       "    </tr>\n",
       "  </tbody>\n",
       "</table>\n",
       "<p>1717 rows × 7 columns</p>\n",
       "</div>"
      ],
      "text/plain": [
       "         Streams                                         Track Name  \\\n",
       "0     1166185736                                   Sweet but Psycho   \n",
       "1     1052358787                                            bad guy   \n",
       "2      789094044                                            7 rings   \n",
       "3      764208309                                       Dance Monkey   \n",
       "4      763064359                                          SeÃ±orita   \n",
       "...          ...                                                ...   \n",
       "1712      554971                                      Cheap Thrills   \n",
       "1713      544655                             HaifischNikez Allstars   \n",
       "1714      536886  Stayin' Alive - From \"Saturday Night Fever\" So...   \n",
       "1715      536447                 Medley da Gaiola - Dennis DJ Remix   \n",
       "1716      524230                        Quem Pegou, Pegou - Ao Vivo   \n",
       "\n",
       "                  Artist  Artist_popularity Artist_follower  Streams1  Top10  \n",
       "0                Ava Max                 87        very low      high      1  \n",
       "1          Billie Eilish                 98            high      high      1  \n",
       "2          Ariana Grande                 97            high      high      1  \n",
       "3            Tones and I                 92        very low      high      0  \n",
       "4           Shawn Mendes                 94            high      high      1  \n",
       "...                  ...                ...             ...       ...    ...  \n",
       "1712                 Sia                 90            high  very low      0  \n",
       "1713                  LX                 71        very low  very low      0  \n",
       "1714            Bee Gees                 79             low  very low      0  \n",
       "1715    MC Kevin o Chris                 84        very low  very low      0  \n",
       "1716  Henrique & Juliano                 84          medium  very low      0  \n",
       "\n",
       "[1717 rows x 7 columns]"
      ]
     },
     "execution_count": 32,
     "metadata": {},
     "output_type": "execute_result"
    }
   ],
   "source": [
    "data"
   ]
  },
  {
   "cell_type": "code",
   "execution_count": 33,
   "metadata": {},
   "outputs": [],
   "source": [
    "data.to_csv(\"Input/spotify_clean.csv\")"
   ]
  },
  {
   "cell_type": "markdown",
   "metadata": {},
   "source": [
    "`5. Agrupamos los artistas que más canciones han tenido y sumamos sus streams`"
   ]
  },
  {
   "cell_type": "code",
   "execution_count": 11,
   "metadata": {},
   "outputs": [],
   "source": [
    "artists_streams = pd.DataFrame(data.groupby([\"Artist\"]).agg({'Track Name':'count','Streams':'sum'}))"
   ]
  },
  {
   "cell_type": "code",
   "execution_count": 12,
   "metadata": {
    "scrolled": true
   },
   "outputs": [
    {
     "data": {
      "text/html": [
       "<div>\n",
       "<style scoped>\n",
       "    .dataframe tbody tr th:only-of-type {\n",
       "        vertical-align: middle;\n",
       "    }\n",
       "\n",
       "    .dataframe tbody tr th {\n",
       "        vertical-align: top;\n",
       "    }\n",
       "\n",
       "    .dataframe thead th {\n",
       "        text-align: right;\n",
       "    }\n",
       "</style>\n",
       "<table border=\"1\" class=\"dataframe\">\n",
       "  <thead>\n",
       "    <tr style=\"text-align: right;\">\n",
       "      <th></th>\n",
       "      <th>Track Name</th>\n",
       "      <th>Streams</th>\n",
       "    </tr>\n",
       "    <tr>\n",
       "      <th>Artist</th>\n",
       "      <th></th>\n",
       "      <th></th>\n",
       "    </tr>\n",
       "  </thead>\n",
       "  <tbody>\n",
       "    <tr>\n",
       "      <th>Billie Eilish</th>\n",
       "      <td>27</td>\n",
       "      <td>4497652401</td>\n",
       "    </tr>\n",
       "    <tr>\n",
       "      <th>Post Malone</th>\n",
       "      <td>45</td>\n",
       "      <td>4244240516</td>\n",
       "    </tr>\n",
       "    <tr>\n",
       "      <th>Ariana Grande</th>\n",
       "      <td>28</td>\n",
       "      <td>3339800155</td>\n",
       "    </tr>\n",
       "    <tr>\n",
       "      <th>Ed Sheeran</th>\n",
       "      <td>25</td>\n",
       "      <td>3118912731</td>\n",
       "    </tr>\n",
       "    <tr>\n",
       "      <th>Lil Nas X</th>\n",
       "      <td>20</td>\n",
       "      <td>1777338768</td>\n",
       "    </tr>\n",
       "    <tr>\n",
       "      <th>Shawn Mendes</th>\n",
       "      <td>8</td>\n",
       "      <td>1729841617</td>\n",
       "    </tr>\n",
       "    <tr>\n",
       "      <th>Ava Max</th>\n",
       "      <td>2</td>\n",
       "      <td>1573833722</td>\n",
       "    </tr>\n",
       "    <tr>\n",
       "      <th>Khalid</th>\n",
       "      <td>24</td>\n",
       "      <td>1435399324</td>\n",
       "    </tr>\n",
       "    <tr>\n",
       "      <th>XXXTENTACION</th>\n",
       "      <td>18</td>\n",
       "      <td>1370067912</td>\n",
       "    </tr>\n",
       "    <tr>\n",
       "      <th>Queen</th>\n",
       "      <td>11</td>\n",
       "      <td>1358564243</td>\n",
       "    </tr>\n",
       "  </tbody>\n",
       "</table>\n",
       "</div>"
      ],
      "text/plain": [
       "               Track Name     Streams\n",
       "Artist                               \n",
       "Billie Eilish          27  4497652401\n",
       "Post Malone            45  4244240516\n",
       "Ariana Grande          28  3339800155\n",
       "Ed Sheeran             25  3118912731\n",
       "Lil Nas X              20  1777338768\n",
       "Shawn Mendes            8  1729841617\n",
       "Ava Max                 2  1573833722\n",
       "Khalid                 24  1435399324\n",
       "XXXTENTACION           18  1370067912\n",
       "Queen                  11  1358564243"
      ]
     },
     "execution_count": 12,
     "metadata": {},
     "output_type": "execute_result"
    }
   ],
   "source": [
    "artists_streams_save= artists_streams.sort_values('Streams', ascending=False)\n",
    "artists_streams_save.head(10)"
   ]
  },
  {
   "cell_type": "markdown",
   "metadata": {},
   "source": [
    "`6. Quitamos el espacio de Track Name para que luego no nos de problemas`"
   ]
  },
  {
   "cell_type": "code",
   "execution_count": 13,
   "metadata": {},
   "outputs": [],
   "source": [
    "artists_streams_save = artists_streams_save.rename(columns={'Track Name': 'num_songs'})"
   ]
  },
  {
   "cell_type": "code",
   "execution_count": 18,
   "metadata": {
    "scrolled": true
   },
   "outputs": [
    {
     "data": {
      "text/html": [
       "<div>\n",
       "<style scoped>\n",
       "    .dataframe tbody tr th:only-of-type {\n",
       "        vertical-align: middle;\n",
       "    }\n",
       "\n",
       "    .dataframe tbody tr th {\n",
       "        vertical-align: top;\n",
       "    }\n",
       "\n",
       "    .dataframe thead th {\n",
       "        text-align: right;\n",
       "    }\n",
       "</style>\n",
       "<table border=\"1\" class=\"dataframe\">\n",
       "  <thead>\n",
       "    <tr style=\"text-align: right;\">\n",
       "      <th></th>\n",
       "      <th>num_songs</th>\n",
       "      <th>Streams</th>\n",
       "    </tr>\n",
       "    <tr>\n",
       "      <th>Artist</th>\n",
       "      <th></th>\n",
       "      <th></th>\n",
       "    </tr>\n",
       "  </thead>\n",
       "  <tbody>\n",
       "    <tr>\n",
       "      <th>Billie Eilish</th>\n",
       "      <td>27</td>\n",
       "      <td>4497652401</td>\n",
       "    </tr>\n",
       "    <tr>\n",
       "      <th>Post Malone</th>\n",
       "      <td>45</td>\n",
       "      <td>4244240516</td>\n",
       "    </tr>\n",
       "    <tr>\n",
       "      <th>Ariana Grande</th>\n",
       "      <td>28</td>\n",
       "      <td>3339800155</td>\n",
       "    </tr>\n",
       "    <tr>\n",
       "      <th>Ed Sheeran</th>\n",
       "      <td>25</td>\n",
       "      <td>3118912731</td>\n",
       "    </tr>\n",
       "    <tr>\n",
       "      <th>Lil Nas X</th>\n",
       "      <td>20</td>\n",
       "      <td>1777338768</td>\n",
       "    </tr>\n",
       "    <tr>\n",
       "      <th>Shawn Mendes</th>\n",
       "      <td>8</td>\n",
       "      <td>1729841617</td>\n",
       "    </tr>\n",
       "    <tr>\n",
       "      <th>Ava Max</th>\n",
       "      <td>2</td>\n",
       "      <td>1573833722</td>\n",
       "    </tr>\n",
       "    <tr>\n",
       "      <th>Khalid</th>\n",
       "      <td>24</td>\n",
       "      <td>1435399324</td>\n",
       "    </tr>\n",
       "    <tr>\n",
       "      <th>XXXTENTACION</th>\n",
       "      <td>18</td>\n",
       "      <td>1370067912</td>\n",
       "    </tr>\n",
       "    <tr>\n",
       "      <th>Queen</th>\n",
       "      <td>11</td>\n",
       "      <td>1358564243</td>\n",
       "    </tr>\n",
       "  </tbody>\n",
       "</table>\n",
       "</div>"
      ],
      "text/plain": [
       "               num_songs     Streams\n",
       "Artist                              \n",
       "Billie Eilish         27  4497652401\n",
       "Post Malone           45  4244240516\n",
       "Ariana Grande         28  3339800155\n",
       "Ed Sheeran            25  3118912731\n",
       "Lil Nas X             20  1777338768\n",
       "Shawn Mendes           8  1729841617\n",
       "Ava Max                2  1573833722\n",
       "Khalid                24  1435399324\n",
       "XXXTENTACION          18  1370067912\n",
       "Queen                 11  1358564243"
      ]
     },
     "execution_count": 18,
     "metadata": {},
     "output_type": "execute_result"
    }
   ],
   "source": [
    "artists_streams_save.head(10)"
   ]
  },
  {
   "cell_type": "markdown",
   "metadata": {},
   "source": [
    "`7. Nos quedamos unicamente con los 10 artistas con más reproduciones y guardamos el documento`"
   ]
  },
  {
   "cell_type": "code",
   "execution_count": 15,
   "metadata": {},
   "outputs": [],
   "source": [
    "artists = artists_streams_save.nlargest(10, 'Streams')"
   ]
  },
  {
   "cell_type": "code",
   "execution_count": 16,
   "metadata": {},
   "outputs": [],
   "source": [
    "artists.to_csv(\"src/artists_streams.csv\")"
   ]
  }
 ],
 "metadata": {
  "kernelspec": {
   "display_name": "Python 3",
   "language": "python",
   "name": "python3"
  },
  "language_info": {
   "codemirror_mode": {
    "name": "ipython",
    "version": 3
   },
   "file_extension": ".py",
   "mimetype": "text/x-python",
   "name": "python",
   "nbconvert_exporter": "python",
   "pygments_lexer": "ipython3",
   "version": "3.7.7"
  }
 },
 "nbformat": 4,
 "nbformat_minor": 4
}
