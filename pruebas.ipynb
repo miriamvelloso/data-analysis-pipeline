{
 "cells": [
  {
   "cell_type": "code",
   "execution_count": 1,
   "metadata": {},
   "outputs": [],
   "source": [
    "import matplotlib.pyplot as plt; plt.rcdefaults()\n",
    "import numpy as np\n",
    "import matplotlib.pyplot as plt\n",
    "import pandas as pd\n",
    "import seaborn as sns\n",
    "import smtplib\n",
    "import email,ssl\n",
    "from email import encoders\n",
    "from email.mime.base import MIMEBase\n",
    "from email.mime.multipart import MIMEMultipart\n",
    "from email.mime.text import MIMEText\n",
    "\n",
    "\n",
    "\n"
   ]
  },
  {
   "cell_type": "code",
   "execution_count": 2,
   "metadata": {},
   "outputs": [],
   "source": [
    "def acquire():\n",
    "    data=pd.read_csv('src/spotify_clean.csv')\n",
    "    return data"
   ]
  },
  {
   "cell_type": "code",
   "execution_count": 3,
   "metadata": {},
   "outputs": [],
   "source": [
    "data = acquire()"
   ]
  },
  {
   "cell_type": "code",
   "execution_count": 4,
   "metadata": {},
   "outputs": [
    {
     "data": {
      "text/plain": [
       "0    1534\n",
       "1     183\n",
       "Name: Top10, dtype: int64"
      ]
     },
     "execution_count": 4,
     "metadata": {},
     "output_type": "execute_result"
    }
   ],
   "source": [
    "data['Top10'].value_counts()"
   ]
  },
  {
   "cell_type": "code",
   "execution_count": 18,
   "metadata": {},
   "outputs": [],
   "source": [
    "def filters2(df):\n",
    "    filtered2=df[(df[\"Top10\"]== 1)]\n",
    "    print(filtered2)\n",
    "    return filtered2\n"
   ]
  },
  {
   "cell_type": "code",
   "execution_count": 19,
   "metadata": {
    "scrolled": true
   },
   "outputs": [
    {
     "name": "stdout",
     "output_type": "stream",
     "text": [
      "      Unnamed: 0     Streams               Track Name         Artist  \\\n",
      "0              0  1166185736         Sweet but Psycho        Ava Max   \n",
      "1              1  1052358787                  bad guy  Billie Eilish   \n",
      "2              2   789094044                  7 rings  Ariana Grande   \n",
      "4              4   763064359                SeÃ±orita   Shawn Mendes   \n",
      "9              9   615519053                     Wow.    Post Malone   \n",
      "...          ...         ...                      ...            ...   \n",
      "1610        1610      739886             Bring U Down      Lil Nas X   \n",
      "1640        1640      715029                   Panini      Lil Nas X   \n",
      "1678        1678      679370      #PROUDCATOWNERREMIX   XXXTENTACION   \n",
      "1696        1696      646319           Touch Eem Body   XXXTENTACION   \n",
      "1708        1708      585551  Killer Queen - 2011 Mix          Queen   \n",
      "\n",
      "      Artist_popularity Artist_follower  Streams1  Top10  \n",
      "0                    87        very low      high      1  \n",
      "1                    98            high      high      1  \n",
      "2                    97            high      high      1  \n",
      "4                    94            high      high      1  \n",
      "9                   100            high      high      1  \n",
      "...                 ...             ...       ...    ...  \n",
      "1610                 87             low  very low      1  \n",
      "1640                 87             low  very low      1  \n",
      "1678                 95            high  very low      1  \n",
      "1696                 95            high  very low      1  \n",
      "1708                 93            high  very low      1  \n",
      "\n",
      "[183 rows x 8 columns]\n"
     ]
    },
    {
     "data": {
      "text/html": [
       "<div>\n",
       "<style scoped>\n",
       "    .dataframe tbody tr th:only-of-type {\n",
       "        vertical-align: middle;\n",
       "    }\n",
       "\n",
       "    .dataframe tbody tr th {\n",
       "        vertical-align: top;\n",
       "    }\n",
       "\n",
       "    .dataframe thead th {\n",
       "        text-align: right;\n",
       "    }\n",
       "</style>\n",
       "<table border=\"1\" class=\"dataframe\">\n",
       "  <thead>\n",
       "    <tr style=\"text-align: right;\">\n",
       "      <th></th>\n",
       "      <th>Unnamed: 0</th>\n",
       "      <th>Streams</th>\n",
       "      <th>Track Name</th>\n",
       "      <th>Artist</th>\n",
       "      <th>Artist_popularity</th>\n",
       "      <th>Artist_follower</th>\n",
       "      <th>Streams1</th>\n",
       "      <th>Top10</th>\n",
       "    </tr>\n",
       "  </thead>\n",
       "  <tbody>\n",
       "    <tr>\n",
       "      <th>0</th>\n",
       "      <td>0</td>\n",
       "      <td>1166185736</td>\n",
       "      <td>Sweet but Psycho</td>\n",
       "      <td>Ava Max</td>\n",
       "      <td>87</td>\n",
       "      <td>very low</td>\n",
       "      <td>high</td>\n",
       "      <td>1</td>\n",
       "    </tr>\n",
       "    <tr>\n",
       "      <th>1</th>\n",
       "      <td>1</td>\n",
       "      <td>1052358787</td>\n",
       "      <td>bad guy</td>\n",
       "      <td>Billie Eilish</td>\n",
       "      <td>98</td>\n",
       "      <td>high</td>\n",
       "      <td>high</td>\n",
       "      <td>1</td>\n",
       "    </tr>\n",
       "    <tr>\n",
       "      <th>2</th>\n",
       "      <td>2</td>\n",
       "      <td>789094044</td>\n",
       "      <td>7 rings</td>\n",
       "      <td>Ariana Grande</td>\n",
       "      <td>97</td>\n",
       "      <td>high</td>\n",
       "      <td>high</td>\n",
       "      <td>1</td>\n",
       "    </tr>\n",
       "    <tr>\n",
       "      <th>4</th>\n",
       "      <td>4</td>\n",
       "      <td>763064359</td>\n",
       "      <td>SeÃ±orita</td>\n",
       "      <td>Shawn Mendes</td>\n",
       "      <td>94</td>\n",
       "      <td>high</td>\n",
       "      <td>high</td>\n",
       "      <td>1</td>\n",
       "    </tr>\n",
       "    <tr>\n",
       "      <th>9</th>\n",
       "      <td>9</td>\n",
       "      <td>615519053</td>\n",
       "      <td>Wow.</td>\n",
       "      <td>Post Malone</td>\n",
       "      <td>100</td>\n",
       "      <td>high</td>\n",
       "      <td>high</td>\n",
       "      <td>1</td>\n",
       "    </tr>\n",
       "    <tr>\n",
       "      <th>...</th>\n",
       "      <td>...</td>\n",
       "      <td>...</td>\n",
       "      <td>...</td>\n",
       "      <td>...</td>\n",
       "      <td>...</td>\n",
       "      <td>...</td>\n",
       "      <td>...</td>\n",
       "      <td>...</td>\n",
       "    </tr>\n",
       "    <tr>\n",
       "      <th>1610</th>\n",
       "      <td>1610</td>\n",
       "      <td>739886</td>\n",
       "      <td>Bring U Down</td>\n",
       "      <td>Lil Nas X</td>\n",
       "      <td>87</td>\n",
       "      <td>low</td>\n",
       "      <td>very low</td>\n",
       "      <td>1</td>\n",
       "    </tr>\n",
       "    <tr>\n",
       "      <th>1640</th>\n",
       "      <td>1640</td>\n",
       "      <td>715029</td>\n",
       "      <td>Panini</td>\n",
       "      <td>Lil Nas X</td>\n",
       "      <td>87</td>\n",
       "      <td>low</td>\n",
       "      <td>very low</td>\n",
       "      <td>1</td>\n",
       "    </tr>\n",
       "    <tr>\n",
       "      <th>1678</th>\n",
       "      <td>1678</td>\n",
       "      <td>679370</td>\n",
       "      <td>#PROUDCATOWNERREMIX</td>\n",
       "      <td>XXXTENTACION</td>\n",
       "      <td>95</td>\n",
       "      <td>high</td>\n",
       "      <td>very low</td>\n",
       "      <td>1</td>\n",
       "    </tr>\n",
       "    <tr>\n",
       "      <th>1696</th>\n",
       "      <td>1696</td>\n",
       "      <td>646319</td>\n",
       "      <td>Touch Eem Body</td>\n",
       "      <td>XXXTENTACION</td>\n",
       "      <td>95</td>\n",
       "      <td>high</td>\n",
       "      <td>very low</td>\n",
       "      <td>1</td>\n",
       "    </tr>\n",
       "    <tr>\n",
       "      <th>1708</th>\n",
       "      <td>1708</td>\n",
       "      <td>585551</td>\n",
       "      <td>Killer Queen - 2011 Mix</td>\n",
       "      <td>Queen</td>\n",
       "      <td>93</td>\n",
       "      <td>high</td>\n",
       "      <td>very low</td>\n",
       "      <td>1</td>\n",
       "    </tr>\n",
       "  </tbody>\n",
       "</table>\n",
       "<p>183 rows × 8 columns</p>\n",
       "</div>"
      ],
      "text/plain": [
       "      Unnamed: 0     Streams               Track Name         Artist  \\\n",
       "0              0  1166185736         Sweet but Psycho        Ava Max   \n",
       "1              1  1052358787                  bad guy  Billie Eilish   \n",
       "2              2   789094044                  7 rings  Ariana Grande   \n",
       "4              4   763064359                SeÃ±orita   Shawn Mendes   \n",
       "9              9   615519053                     Wow.    Post Malone   \n",
       "...          ...         ...                      ...            ...   \n",
       "1610        1610      739886             Bring U Down      Lil Nas X   \n",
       "1640        1640      715029                   Panini      Lil Nas X   \n",
       "1678        1678      679370      #PROUDCATOWNERREMIX   XXXTENTACION   \n",
       "1696        1696      646319           Touch Eem Body   XXXTENTACION   \n",
       "1708        1708      585551  Killer Queen - 2011 Mix          Queen   \n",
       "\n",
       "      Artist_popularity Artist_follower  Streams1  Top10  \n",
       "0                    87        very low      high      1  \n",
       "1                    98            high      high      1  \n",
       "2                    97            high      high      1  \n",
       "4                    94            high      high      1  \n",
       "9                   100            high      high      1  \n",
       "...                 ...             ...       ...    ...  \n",
       "1610                 87             low  very low      1  \n",
       "1640                 87             low  very low      1  \n",
       "1678                 95            high  very low      1  \n",
       "1696                 95            high  very low      1  \n",
       "1708                 93            high  very low      1  \n",
       "\n",
       "[183 rows x 8 columns]"
      ]
     },
     "execution_count": 19,
     "metadata": {},
     "output_type": "execute_result"
    }
   ],
   "source": [
    "filters2(data)"
   ]
  },
  {
   "cell_type": "code",
   "execution_count": 20,
   "metadata": {},
   "outputs": [
    {
     "name": "stdout",
     "output_type": "stream",
     "text": [
      "      Unnamed: 0     Streams               Track Name         Artist  \\\n",
      "0              0  1166185736         Sweet but Psycho        Ava Max   \n",
      "1              1  1052358787                  bad guy  Billie Eilish   \n",
      "2              2   789094044                  7 rings  Ariana Grande   \n",
      "4              4   763064359                SeÃ±orita   Shawn Mendes   \n",
      "9              9   615519053                     Wow.    Post Malone   \n",
      "...          ...         ...                      ...            ...   \n",
      "1610        1610      739886             Bring U Down      Lil Nas X   \n",
      "1640        1640      715029                   Panini      Lil Nas X   \n",
      "1678        1678      679370      #PROUDCATOWNERREMIX   XXXTENTACION   \n",
      "1696        1696      646319           Touch Eem Body   XXXTENTACION   \n",
      "1708        1708      585551  Killer Queen - 2011 Mix          Queen   \n",
      "\n",
      "      Artist_popularity Artist_follower  Streams1  Top10  \n",
      "0                    87        very low      high      1  \n",
      "1                    98            high      high      1  \n",
      "2                    97            high      high      1  \n",
      "4                    94            high      high      1  \n",
      "9                   100            high      high      1  \n",
      "...                 ...             ...       ...    ...  \n",
      "1610                 87             low  very low      1  \n",
      "1640                 87             low  very low      1  \n",
      "1678                 95            high  very low      1  \n",
      "1696                 95            high  very low      1  \n",
      "1708                 93            high  very low      1  \n",
      "\n",
      "[183 rows x 8 columns]\n"
     ]
    }
   ],
   "source": [
    "filtered2 = filters2(data)"
   ]
  },
  {
   "cell_type": "code",
   "execution_count": 16,
   "metadata": {},
   "outputs": [],
   "source": [
    "def analysis2(df):\n",
    "    grouped2=df.groupby(\"Artist\").agg({\"Track Name\":\"count\",\"Streams\":\"sum\"})\n",
    "    results2=grouped2.sort_values(\"Streams\",ascending=False)\n",
    "    print(\"Estos son los 10 artistas más escuchados en 2019\")\n",
    "    return results2\n",
    "\n",
    "\n"
   ]
  },
  {
   "cell_type": "code",
   "execution_count": 17,
   "metadata": {
    "scrolled": true
   },
   "outputs": [
    {
     "name": "stdout",
     "output_type": "stream",
     "text": [
      "Estos son los 10 artistas más escuchados en 2019\n"
     ]
    },
    {
     "data": {
      "text/html": [
       "<div>\n",
       "<style scoped>\n",
       "    .dataframe tbody tr th:only-of-type {\n",
       "        vertical-align: middle;\n",
       "    }\n",
       "\n",
       "    .dataframe tbody tr th {\n",
       "        vertical-align: top;\n",
       "    }\n",
       "\n",
       "    .dataframe thead th {\n",
       "        text-align: right;\n",
       "    }\n",
       "</style>\n",
       "<table border=\"1\" class=\"dataframe\">\n",
       "  <thead>\n",
       "    <tr style=\"text-align: right;\">\n",
       "      <th></th>\n",
       "      <th>Track Name</th>\n",
       "      <th>Streams</th>\n",
       "    </tr>\n",
       "    <tr>\n",
       "      <th>Artist</th>\n",
       "      <th></th>\n",
       "      <th></th>\n",
       "    </tr>\n",
       "  </thead>\n",
       "  <tbody>\n",
       "  </tbody>\n",
       "</table>\n",
       "</div>"
      ],
      "text/plain": [
       "Empty DataFrame\n",
       "Columns: [Track Name, Streams]\n",
       "Index: []"
      ]
     },
     "execution_count": 17,
     "metadata": {},
     "output_type": "execute_result"
    }
   ],
   "source": [
    "analysis2(filtered2)"
   ]
  },
  {
   "cell_type": "code",
   "execution_count": null,
   "metadata": {},
   "outputs": [],
   "source": []
  },
  {
   "cell_type": "code",
   "execution_count": null,
   "metadata": {},
   "outputs": [],
   "source": [
    "def acquire2():\n",
    "    artist_data=pd.read_csv('src/artists_clean.csv')\n",
    "    artist_data=artist_data.drop(columns=[\"Unnamed: 0\"])\n",
    "    print(\"Además, estos son los datos personales de cada ganador: Nacionalidad, Fecha de Nacimiento, Altura, Ganancias:\", artist_data)\n",
    "    return artist_data"
   ]
  },
  {
   "cell_type": "code",
   "execution_count": null,
   "metadata": {
    "scrolled": true
   },
   "outputs": [],
   "source": [
    "acquire2()"
   ]
  },
  {
   "cell_type": "code",
   "execution_count": null,
   "metadata": {
    "scrolled": true
   },
   "outputs": [],
   "source": [
    "artist_data = acquire2()"
   ]
  },
  {
   "cell_type": "code",
   "execution_count": null,
   "metadata": {},
   "outputs": [],
   "source": [
    "def send_email(text):\n",
    "    subject=\"¿Quieres saber más de los artistás más escuchados el 2019?\"\n",
    "    body = \"\"\"\\\n",
    "    Hola,\n",
    "    Adjunto vas a encontrar una gráfica con los 10 artistas con mayor numero de reproducciones en el 2019,estos son los datos  de cada artista: Nombre, Fecha de Nacimiento, Sexo, Ganancias: {text}\n",
    "    \"\"\"\n",
    "    sender_email = input(\"Enter sender_email:\")\n",
    "    receiver_email = input(\"Enter destinatary_email:\")\n",
    "    password = input(\"Enter password:\")\n",
    "\n",
    "    message = MIMEMultipart()\n",
    "    message[\"From\"] = sender_email\n",
    "    message[\"To\"] = receiver_email\n",
    "    message[\"Subject\"] = subject\n",
    "    message.attach(MIMEText(body, \"plain\"))\n",
    "    filename = \"Top 10 most popularity Artists.png\"\n",
    "    with open(\"output/Top 10 most popularity Artists.png\", \"rb\") as attachment:\n",
    "        part = MIMEBase(\"application\", \"octet-stream\")\n",
    "        part.set_payload(attachment.read())\n",
    "    encoders.encode_base64(part)\n",
    "    part.add_header(\n",
    "        \"Content-Disposition\",\n",
    "        f\"attachment; filename= {filename}\",\n",
    "    )\n",
    "    message.attach(part)\n",
    "    text = message.as_string()\n",
    "\n",
    "    context = ssl.create_default_context()\n",
    "    with smtplib.SMTP_SSL(\"smtp.gmail.com\", 465, context=context) as server:\n",
    "        server.login(sender_email, password)\n",
    "        server.sendmail(sender_email, receiver_email, text)"
   ]
  },
  {
   "cell_type": "code",
   "execution_count": null,
   "metadata": {
    "scrolled": true
   },
   "outputs": [],
   "source": [
    "send_email(artist_data)"
   ]
  },
  {
   "cell_type": "code",
   "execution_count": null,
   "metadata": {},
   "outputs": [],
   "source": []
  }
 ],
 "metadata": {
  "kernelspec": {
   "display_name": "Python 3",
   "language": "python",
   "name": "python3"
  },
  "language_info": {
   "codemirror_mode": {
    "name": "ipython",
    "version": 3
   },
   "file_extension": ".py",
   "mimetype": "text/x-python",
   "name": "python",
   "nbconvert_exporter": "python",
   "pygments_lexer": "ipython3",
   "version": "3.7.7"
  }
 },
 "nbformat": 4,
 "nbformat_minor": 4
}
