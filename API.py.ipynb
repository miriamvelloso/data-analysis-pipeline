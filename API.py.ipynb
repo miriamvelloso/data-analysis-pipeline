{
 "cells": [
  {
   "cell_type": "code",
   "execution_count": 1,
   "metadata": {},
   "outputs": [],
   "source": [
    "import pandas as pd\n",
    "import requests\n",
    "from bs4 import BeautifulSoup\n",
    "import matplotlib.pyplot as plt\n",
    "import json"
   ]
  },
  {
   "cell_type": "code",
   "execution_count": 2,
   "metadata": {},
   "outputs": [],
   "source": [
    "def getFromApi(path,queryParams={}):\n",
    "    url=f\"http://musicbrainz.org/ws/2{path}?inc=aliases&fmt=json\"\n",
    "    res = requests.get(url,params=queryParams)\n",
    "    print(res.status_code,res.url)\n",
    "    return res.json()"
   ]
  },
  {
   "cell_type": "code",
   "execution_count": 3,
   "metadata": {
    "scrolled": true,
    "tags": []
   },
   "outputs": [
    {
     "name": "stdout",
     "output_type": "stream",
     "text": [
      "200 http://musicbrainz.org/ws/2/artist/add5f522-25df-41c4-815e-0ca9f60b83e4?inc=aliases&fmt=json\n",
      "200 http://musicbrainz.org/ws/2/artist/f4abc0b5-3f7a-4eff-8f78-ac078dbce533?inc=aliases&fmt=json\n",
      "200 http://musicbrainz.org/ws/2/artist/f4fdbb4c-e4b7-47a0-b83b-d91bbfcfa387?inc=aliases&fmt=json\n",
      "200 http://musicbrainz.org/ws/2/artist/b8a7c51f-362c-4dcb-a259-bc6e0095f0a6?inc=aliases&fmt=json\n",
      "200 http://musicbrainz.org/ws/2/artist/b7d92248-97e3-4450-8057-6fe06738f735?inc=aliases&fmt=json\n",
      "200 http://musicbrainz.org/ws/2/artist/0b30341b-b59d-4979-8130-b66c0e475321?inc=aliases&fmt=json\n",
      "200 http://musicbrainz.org/ws/2/artist/28737730-ec70-4da5-89c5-77ac13c5c34d?inc=aliases&fmt=json\n",
      "200 http://musicbrainz.org/ws/2/artist/61af87f4-16ee-4431-8504-cc06187079fb?inc=aliases&fmt=json\n",
      "200 http://musicbrainz.org/ws/2/artist/0383dadf-2a4e-4d10-a46a-e9e041da8eb3?inc=aliases&fmt=json\n",
      "200 http://musicbrainz.org/ws/2/artist/b1e26560-60e5-4236-bbdb-9aa5a8d5ee19?inc=aliases&fmt=json\n"
     ]
    }
   ],
   "source": [
    "Ava_Max = getFromApi(\"/artist/add5f522-25df-41c4-815e-0ca9f60b83e4\")\n",
    "Billie_Eilish = getFromApi(\"/artist/f4abc0b5-3f7a-4eff-8f78-ac078dbce533\")\n",
    "Ariana_Grande = getFromApi(\"/artist/f4fdbb4c-e4b7-47a0-b83b-d91bbfcfa387\")\n",
    "Ed_Sheeram = getFromApi(\"/artist/b8a7c51f-362c-4dcb-a259-bc6e0095f0a6\")\n",
    "Shawn_Mendes = getFromApi(\"/artist/b7d92248-97e3-4450-8057-6fe06738f735\")\n",
    "Lil_Nas_X = getFromApi(\"/artist/0b30341b-b59d-4979-8130-b66c0e475321\")\n",
    "Khalid = getFromApi(\"/artist/28737730-ec70-4da5-89c5-77ac13c5c34d\")\n",
    "XXXTENTACION = getFromApi(\"/artist/61af87f4-16ee-4431-8504-cc06187079fb\")\n",
    "Queen = getFromApi(\"/artist/0383dadf-2a4e-4d10-a46a-e9e041da8eb3\")\n",
    "Post_Malone = getFromApi(\"/artist/b1e26560-60e5-4236-bbdb-9aa5a8d5ee19\")\n"
   ]
  },
  {
   "cell_type": "code",
   "execution_count": 4,
   "metadata": {},
   "outputs": [
    {
     "data": {
      "text/plain": [
       "{'name': 'Ava Max',\n",
       " 'life-span': {'end': None, 'begin': '1994-02-16', 'ended': False},\n",
       " 'end-area': None,\n",
       " 'type': 'Person',\n",
       " 'end_area': None,\n",
       " 'type-id': 'b6e035f4-3ce9-331c-97df-83397230b0df',\n",
       " 'aliases': [{'name': 'Amanda Ava Koci',\n",
       "   'primary': None,\n",
       "   'ended': False,\n",
       "   'locale': None,\n",
       "   'sort-name': 'Koci, Amanda Ava',\n",
       "   'type': 'Legal name',\n",
       "   'type-id': 'd4dcd0c0-b341-3612-a332-c0ce797b25cf',\n",
       "   'begin': None,\n",
       "   'end': None}],\n",
       " 'disambiguation': '',\n",
       " 'ipis': [],\n",
       " 'begin_area': {'disambiguation': '',\n",
       "  'id': '4dc3fa97-cf9b-43f0-bec9-fcc52d6215d5',\n",
       "  'type': None,\n",
       "  'sort-name': 'Milwaukee',\n",
       "  'name': 'Milwaukee',\n",
       "  'type-id': None},\n",
       " 'gender-id': '93452b5a-a947-30c8-934f-6a4056b151c2',\n",
       " 'isnis': [],\n",
       " 'id': 'add5f522-25df-41c4-815e-0ca9f60b83e4',\n",
       " 'gender': 'Female',\n",
       " 'sort-name': 'Ava Max',\n",
       " 'area': {'type': None,\n",
       "  'iso-3166-1-codes': ['US'],\n",
       "  'sort-name': 'United States',\n",
       "  'id': '489ce91b-6658-3307-9877-795b68554c98',\n",
       "  'disambiguation': '',\n",
       "  'type-id': None,\n",
       "  'name': 'United States'},\n",
       " 'begin-area': {'disambiguation': '',\n",
       "  'id': '4dc3fa97-cf9b-43f0-bec9-fcc52d6215d5',\n",
       "  'type': None,\n",
       "  'sort-name': 'Milwaukee',\n",
       "  'name': 'Milwaukee',\n",
       "  'type-id': None},\n",
       " 'country': 'US'}"
      ]
     },
     "execution_count": 4,
     "metadata": {},
     "output_type": "execute_result"
    }
   ],
   "source": [
    "Ava_Max\n"
   ]
  },
  {
   "cell_type": "code",
   "execution_count": 5,
   "metadata": {},
   "outputs": [],
   "source": [
    "def ArtistDetails(data):\n",
    "    for artist in data:\n",
    "        return{\n",
    "            \"Name\":data['name'],\n",
    "            \"BirthDate\":data.get('life-span', {}).get('begin'),\n",
    "            \"Country\":data.get('area', {}).get('sort-name'),\n",
    "            \"Gender\":data['gender']\n",
    "        }\n"
   ]
  },
  {
   "cell_type": "code",
   "execution_count": 6,
   "metadata": {
    "scrolled": true
   },
   "outputs": [],
   "source": [
    "dict1 = ArtistDetails(Ava_Max)\n",
    "dict2 = ArtistDetails(Billie_Eilish)\n",
    "dict3 = ArtistDetails(Ariana_Grande)\n",
    "dict4 = ArtistDetails(Ed_Sheeram)\n",
    "dict5 = ArtistDetails(Shawn_Mendes)\n",
    "dict6 = ArtistDetails(Lil_Nas_X)\n",
    "dict7= ArtistDetails(Khalid)\n",
    "dict8 = ArtistDetails(XXXTENTACION)\n",
    "dict9 = ArtistDetails(Queen)\n",
    "dict10 = ArtistDetails(Post_Malone)"
   ]
  },
  {
   "cell_type": "code",
   "execution_count": 7,
   "metadata": {},
   "outputs": [],
   "source": [
    "df = pd.DataFrame([dict1,dict2,dict3,dict4,dict5,dict6,dict7,dict8,dict9,dict10])"
   ]
  },
  {
   "cell_type": "code",
   "execution_count": 8,
   "metadata": {},
   "outputs": [],
   "source": [
    "df_import = pd.read_csv('src/artists_streams.csv',encoding='latin-1')"
   ]
  },
  {
   "cell_type": "code",
   "execution_count": 9,
   "metadata": {},
   "outputs": [],
   "source": [
    "df_import = df_import.rename(columns={'Artist': 'Name'})"
   ]
  },
  {
   "cell_type": "code",
   "execution_count": 10,
   "metadata": {},
   "outputs": [
    {
     "data": {
      "text/html": [
       "<div>\n",
       "<style scoped>\n",
       "    .dataframe tbody tr th:only-of-type {\n",
       "        vertical-align: middle;\n",
       "    }\n",
       "\n",
       "    .dataframe tbody tr th {\n",
       "        vertical-align: top;\n",
       "    }\n",
       "\n",
       "    .dataframe thead th {\n",
       "        text-align: right;\n",
       "    }\n",
       "</style>\n",
       "<table border=\"1\" class=\"dataframe\">\n",
       "  <thead>\n",
       "    <tr style=\"text-align: right;\">\n",
       "      <th></th>\n",
       "      <th>Name</th>\n",
       "      <th>num_songs</th>\n",
       "      <th>Streams</th>\n",
       "    </tr>\n",
       "  </thead>\n",
       "  <tbody>\n",
       "    <tr>\n",
       "      <th>0</th>\n",
       "      <td>Billie Eilish</td>\n",
       "      <td>27</td>\n",
       "      <td>4497652401</td>\n",
       "    </tr>\n",
       "    <tr>\n",
       "      <th>1</th>\n",
       "      <td>Post Malone</td>\n",
       "      <td>45</td>\n",
       "      <td>4244240516</td>\n",
       "    </tr>\n",
       "    <tr>\n",
       "      <th>2</th>\n",
       "      <td>Ariana Grande</td>\n",
       "      <td>28</td>\n",
       "      <td>3339800155</td>\n",
       "    </tr>\n",
       "    <tr>\n",
       "      <th>3</th>\n",
       "      <td>Ed Sheeran</td>\n",
       "      <td>25</td>\n",
       "      <td>3118912731</td>\n",
       "    </tr>\n",
       "    <tr>\n",
       "      <th>4</th>\n",
       "      <td>Lil Nas X</td>\n",
       "      <td>20</td>\n",
       "      <td>1777338768</td>\n",
       "    </tr>\n",
       "    <tr>\n",
       "      <th>5</th>\n",
       "      <td>Shawn Mendes</td>\n",
       "      <td>8</td>\n",
       "      <td>1729841617</td>\n",
       "    </tr>\n",
       "    <tr>\n",
       "      <th>6</th>\n",
       "      <td>Ava Max</td>\n",
       "      <td>2</td>\n",
       "      <td>1573833722</td>\n",
       "    </tr>\n",
       "    <tr>\n",
       "      <th>7</th>\n",
       "      <td>Khalid</td>\n",
       "      <td>24</td>\n",
       "      <td>1435399324</td>\n",
       "    </tr>\n",
       "    <tr>\n",
       "      <th>8</th>\n",
       "      <td>XXXTENTACION</td>\n",
       "      <td>18</td>\n",
       "      <td>1370067912</td>\n",
       "    </tr>\n",
       "    <tr>\n",
       "      <th>9</th>\n",
       "      <td>Queen</td>\n",
       "      <td>11</td>\n",
       "      <td>1358564243</td>\n",
       "    </tr>\n",
       "  </tbody>\n",
       "</table>\n",
       "</div>"
      ],
      "text/plain": [
       "            Name  num_songs     Streams\n",
       "0  Billie Eilish         27  4497652401\n",
       "1    Post Malone         45  4244240516\n",
       "2  Ariana Grande         28  3339800155\n",
       "3     Ed Sheeran         25  3118912731\n",
       "4      Lil Nas X         20  1777338768\n",
       "5   Shawn Mendes          8  1729841617\n",
       "6        Ava Max          2  1573833722\n",
       "7         Khalid         24  1435399324\n",
       "8   XXXTENTACION         18  1370067912\n",
       "9          Queen         11  1358564243"
      ]
     },
     "execution_count": 10,
     "metadata": {},
     "output_type": "execute_result"
    }
   ],
   "source": [
    "df_import"
   ]
  },
  {
   "cell_type": "code",
   "execution_count": 11,
   "metadata": {},
   "outputs": [
    {
     "data": {
      "text/html": [
       "<div>\n",
       "<style scoped>\n",
       "    .dataframe tbody tr th:only-of-type {\n",
       "        vertical-align: middle;\n",
       "    }\n",
       "\n",
       "    .dataframe tbody tr th {\n",
       "        vertical-align: top;\n",
       "    }\n",
       "\n",
       "    .dataframe thead th {\n",
       "        text-align: right;\n",
       "    }\n",
       "</style>\n",
       "<table border=\"1\" class=\"dataframe\">\n",
       "  <thead>\n",
       "    <tr style=\"text-align: right;\">\n",
       "      <th></th>\n",
       "      <th>Name</th>\n",
       "      <th>num_songs</th>\n",
       "      <th>Streams</th>\n",
       "      <th>BirthDate</th>\n",
       "      <th>Country</th>\n",
       "      <th>Gender</th>\n",
       "    </tr>\n",
       "  </thead>\n",
       "  <tbody>\n",
       "    <tr>\n",
       "      <th>0</th>\n",
       "      <td>Billie Eilish</td>\n",
       "      <td>27</td>\n",
       "      <td>4497652401</td>\n",
       "      <td>2001-12-18</td>\n",
       "      <td>United States</td>\n",
       "      <td>Female</td>\n",
       "    </tr>\n",
       "    <tr>\n",
       "      <th>1</th>\n",
       "      <td>Post Malone</td>\n",
       "      <td>45</td>\n",
       "      <td>4244240516</td>\n",
       "      <td>1995-07-04</td>\n",
       "      <td>United States</td>\n",
       "      <td>Male</td>\n",
       "    </tr>\n",
       "    <tr>\n",
       "      <th>2</th>\n",
       "      <td>Ariana Grande</td>\n",
       "      <td>28</td>\n",
       "      <td>3339800155</td>\n",
       "      <td>1993-06-26</td>\n",
       "      <td>United States</td>\n",
       "      <td>Female</td>\n",
       "    </tr>\n",
       "    <tr>\n",
       "      <th>3</th>\n",
       "      <td>Ed Sheeran</td>\n",
       "      <td>25</td>\n",
       "      <td>3118912731</td>\n",
       "      <td>1991-02-17</td>\n",
       "      <td>United Kingdom</td>\n",
       "      <td>Male</td>\n",
       "    </tr>\n",
       "    <tr>\n",
       "      <th>4</th>\n",
       "      <td>Lil Nas X</td>\n",
       "      <td>20</td>\n",
       "      <td>1777338768</td>\n",
       "      <td>1999-04-09</td>\n",
       "      <td>Atlanta</td>\n",
       "      <td>Male</td>\n",
       "    </tr>\n",
       "    <tr>\n",
       "      <th>5</th>\n",
       "      <td>Shawn Mendes</td>\n",
       "      <td>8</td>\n",
       "      <td>1729841617</td>\n",
       "      <td>1998-08-08</td>\n",
       "      <td>Canada</td>\n",
       "      <td>Male</td>\n",
       "    </tr>\n",
       "    <tr>\n",
       "      <th>6</th>\n",
       "      <td>Ava Max</td>\n",
       "      <td>2</td>\n",
       "      <td>1573833722</td>\n",
       "      <td>1994-02-16</td>\n",
       "      <td>United States</td>\n",
       "      <td>Female</td>\n",
       "    </tr>\n",
       "    <tr>\n",
       "      <th>7</th>\n",
       "      <td>Khalid</td>\n",
       "      <td>24</td>\n",
       "      <td>1435399324</td>\n",
       "      <td>1998-02-11</td>\n",
       "      <td>United States</td>\n",
       "      <td>Male</td>\n",
       "    </tr>\n",
       "    <tr>\n",
       "      <th>8</th>\n",
       "      <td>XXXTENTACION</td>\n",
       "      <td>18</td>\n",
       "      <td>1370067912</td>\n",
       "      <td>1998-01-23</td>\n",
       "      <td>United States</td>\n",
       "      <td>Male</td>\n",
       "    </tr>\n",
       "    <tr>\n",
       "      <th>9</th>\n",
       "      <td>Queen</td>\n",
       "      <td>11</td>\n",
       "      <td>1358564243</td>\n",
       "      <td>1970-06-27</td>\n",
       "      <td>United Kingdom</td>\n",
       "      <td>None</td>\n",
       "    </tr>\n",
       "  </tbody>\n",
       "</table>\n",
       "</div>"
      ],
      "text/plain": [
       "            Name  num_songs     Streams   BirthDate         Country  Gender\n",
       "0  Billie Eilish         27  4497652401  2001-12-18   United States  Female\n",
       "1    Post Malone         45  4244240516  1995-07-04   United States    Male\n",
       "2  Ariana Grande         28  3339800155  1993-06-26   United States  Female\n",
       "3     Ed Sheeran         25  3118912731  1991-02-17  United Kingdom    Male\n",
       "4      Lil Nas X         20  1777338768  1999-04-09         Atlanta    Male\n",
       "5   Shawn Mendes          8  1729841617  1998-08-08          Canada    Male\n",
       "6        Ava Max          2  1573833722  1994-02-16   United States  Female\n",
       "7         Khalid         24  1435399324  1998-02-11   United States    Male\n",
       "8   XXXTENTACION         18  1370067912  1998-01-23   United States    Male\n",
       "9          Queen         11  1358564243  1970-06-27  United Kingdom    None"
      ]
     },
     "execution_count": 11,
     "metadata": {},
     "output_type": "execute_result"
    }
   ],
   "source": [
    "df_merge = pd.merge(df_import, df, on='Name')\n",
    "df_merge"
   ]
  },
  {
   "cell_type": "code",
   "execution_count": 12,
   "metadata": {},
   "outputs": [],
   "source": [
    "df_merge.to_csv(\"src/artists_clean.csv\")"
   ]
  },
  {
   "cell_type": "code",
   "execution_count": null,
   "metadata": {},
   "outputs": [],
   "source": []
  },
  {
   "cell_type": "code",
   "execution_count": null,
   "metadata": {},
   "outputs": [],
   "source": []
  },
  {
   "cell_type": "code",
   "execution_count": null,
   "metadata": {},
   "outputs": [],
   "source": []
  }
 ],
 "metadata": {
  "kernelspec": {
   "display_name": "Python 3",
   "language": "python",
   "name": "python3"
  },
  "language_info": {
   "codemirror_mode": {
    "name": "ipython",
    "version": 3
   },
   "file_extension": ".py",
   "mimetype": "text/x-python",
   "name": "python",
   "nbconvert_exporter": "python",
   "pygments_lexer": "ipython3",
   "version": "3.7.7"
  }
 },
 "nbformat": 4,
 "nbformat_minor": 4
}
