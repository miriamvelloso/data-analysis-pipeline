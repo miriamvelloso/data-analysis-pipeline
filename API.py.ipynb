{
 "cells": [
  {
   "cell_type": "code",
   "execution_count": 54,
   "metadata": {},
   "outputs": [],
   "source": [
    "import pandas as pd\n",
    "import requests\n",
    "from bs4 import BeautifulSoup\n",
    "import matplotlib.pyplot as plt\n",
    "import json\n"
   ]
  },
  {
   "cell_type": "code",
   "execution_count": 59,
   "metadata": {},
   "outputs": [],
   "source": [
    "def getFromApi(path,queryParams={}):\n",
    "    url=f\"http://musicbrainz.org/ws/2{path}?inc=aliases&fmt=json\"\n",
    "    res = requests.get(url,params=queryParams)\n",
    "    print(res.status_code,res.url)\n",
    "    return res.json()"
   ]
  },
  {
   "cell_type": "code",
   "execution_count": 96,
   "metadata": {
    "scrolled": true
   },
   "outputs": [
    {
     "name": "stdout",
     "output_type": "stream",
     "text": [
      "200 http://musicbrainz.org/ws/2/artist/add5f522-25df-41c4-815e-0ca9f60b83e4?inc=aliases&fmt=json\n",
      "200 http://musicbrainz.org/ws/2/artist/f4abc0b5-3f7a-4eff-8f78-ac078dbce533?inc=aliases&fmt=json\n",
      "200 http://musicbrainz.org/ws/2/artist/f4fdbb4c-e4b7-47a0-b83b-d91bbfcfa387?inc=aliases&fmt=json\n",
      "200 http://musicbrainz.org/ws/2/artist/663f33f4-8e5f-4773-93ea-493a1135de9a?inc=aliases&fmt=json\n",
      "200 http://musicbrainz.org/ws/2/artist/b7d92248-97e3-4450-8057-6fe06738f735?inc=aliases&fmt=json\n",
      "200 http://musicbrainz.org/ws/2/artist/2f522f5c-111c-4ce8-8bd0-d82e97c227ad?inc=aliases&fmt=json\n",
      "200 http://musicbrainz.org/ws/2/artist/650e7db6-b795-4eb5-a702-5ea2fc46c848?inc=aliases&fmt=json\n",
      "200 http://musicbrainz.org/ws/2/artist/526aab94-697f-44a9-b630-41d1c0505953?inc=aliases&fmt=json\n",
      "200 http://musicbrainz.org/ws/2/artist/301b45a4-b8b9-410e-8344-4b4eaf96691a?inc=aliases&fmt=json\n",
      "200 http://musicbrainz.org/ws/2/artist/b1e26560-60e5-4236-bbdb-9aa5a8d5ee19?inc=aliases&fmt=json\n"
     ]
    }
   ],
   "source": [
    "Ava_Max = getFromApi(\"/artist/add5f522-25df-41c4-815e-0ca9f60b83e4\")\n",
    "Billie_Eilish = getFromApi(\"/artist/f4abc0b5-3f7a-4eff-8f78-ac078dbce533\")\n",
    "Ariana_Grande = getFromApi(\"/artist/f4fdbb4c-e4b7-47a0-b83b-d91bbfcfa387\")\n",
    "Tones_And_I = getFromApi(\"/artist/663f33f4-8e5f-4773-93ea-493a1135de9a\")\n",
    "Shawn_Mendes = getFromApi(\"/artist/b7d92248-97e3-4450-8057-6fe06738f735\")\n",
    "Daddy_Yankee = getFromApi(\"/artist/2f522f5c-111c-4ce8-8bd0-d82e97c227ad\")\n",
    "Lady_Gaga = getFromApi(\"/artist/650e7db6-b795-4eb5-a702-5ea2fc46c848\")\n",
    "Lewis_Capaldi = getFromApi(\"/artist/526aab94-697f-44a9-b630-41d1c0505953\")\n",
    "Marshmello = getFromApi(\"/artist/301b45a4-b8b9-410e-8344-4b4eaf96691a\")\n",
    "Post_Malone = getFromApi(\"/artist/b1e26560-60e5-4236-bbdb-9aa5a8d5ee19\")\n"
   ]
  },
  {
   "cell_type": "code",
   "execution_count": 164,
   "metadata": {},
   "outputs": [
    {
     "data": {
      "text/plain": [
       "{'name': 'Ava Max',\n",
       " 'end-area': None,\n",
       " 'life-span': {'ended': False, 'begin': '1994-02-16', 'end': None},\n",
       " 'type': 'Person',\n",
       " 'end_area': None,\n",
       " 'aliases': [{'type-id': 'd4dcd0c0-b341-3612-a332-c0ce797b25cf',\n",
       "   'begin': None,\n",
       "   'end': None,\n",
       "   'name': 'Amanda Ava Koci',\n",
       "   'primary': None,\n",
       "   'ended': False,\n",
       "   'locale': None,\n",
       "   'sort-name': 'Koci, Amanda Ava',\n",
       "   'type': 'Legal name'}],\n",
       " 'type-id': 'b6e035f4-3ce9-331c-97df-83397230b0df',\n",
       " 'disambiguation': '',\n",
       " 'begin_area': {'name': 'Milwaukee',\n",
       "  'type-id': None,\n",
       "  'disambiguation': '',\n",
       "  'id': '4dc3fa97-cf9b-43f0-bec9-fcc52d6215d5',\n",
       "  'sort-name': 'Milwaukee',\n",
       "  'type': None},\n",
       " 'ipis': [],\n",
       " 'isnis': [],\n",
       " 'id': 'add5f522-25df-41c4-815e-0ca9f60b83e4',\n",
       " 'gender-id': '93452b5a-a947-30c8-934f-6a4056b151c2',\n",
       " 'sort-name': 'Ava Max',\n",
       " 'gender': 'Female',\n",
       " 'begin-area': {'name': 'Milwaukee',\n",
       "  'type-id': None,\n",
       "  'disambiguation': '',\n",
       "  'id': '4dc3fa97-cf9b-43f0-bec9-fcc52d6215d5',\n",
       "  'sort-name': 'Milwaukee',\n",
       "  'type': None},\n",
       " 'country': 'US',\n",
       " 'area': {'disambiguation': '',\n",
       "  'id': '489ce91b-6658-3307-9877-795b68554c98',\n",
       "  'type': None,\n",
       "  'iso-3166-1-codes': ['US'],\n",
       "  'sort-name': 'United States',\n",
       "  'name': 'United States',\n",
       "  'type-id': None}}"
      ]
     },
     "execution_count": 164,
     "metadata": {},
     "output_type": "execute_result"
    }
   ],
   "source": [
    "Ava_Max\n"
   ]
  },
  {
   "cell_type": "code",
   "execution_count": 166,
   "metadata": {},
   "outputs": [],
   "source": [
    "def ArtistDetails(data):\n",
    "    for artist in data:\n",
    "        return{\n",
    "            \"Name\":data['name'],\n",
    "            \"BirthDate\":data.get('life-span', {}).get('begin'),\n",
    "            \"Country\":data.get('area', {}).get('sort-name'),\n",
    "            \"Gender\":data['gender']\n",
    "        }\n"
   ]
  },
  {
   "cell_type": "code",
   "execution_count": 167,
   "metadata": {
    "scrolled": true
   },
   "outputs": [],
   "source": [
    "dict1 = ArtistDetails(Ava_Max)\n",
    "dict2 = ArtistDetails(Billie_Eilish)\n",
    "dict3 = ArtistDetails(Ariana_Grande)\n",
    "dict4 = ArtistDetails(Tones_And_I)\n",
    "dict5 = ArtistDetails(Shawn_Mendes)\n",
    "dict6 = ArtistDetails(Daddy_Yankee)\n",
    "dict7= ArtistDetails(Lady_Gaga)\n",
    "dict8 = ArtistDetails(Lewis_Capaldi)\n",
    "dict9 = ArtistDetails(Marshmello)\n",
    "dict10 = ArtistDetails(Post_Malone)"
   ]
  },
  {
   "cell_type": "code",
   "execution_count": 168,
   "metadata": {},
   "outputs": [
    {
     "data": {
      "text/html": [
       "<div>\n",
       "<style scoped>\n",
       "    .dataframe tbody tr th:only-of-type {\n",
       "        vertical-align: middle;\n",
       "    }\n",
       "\n",
       "    .dataframe tbody tr th {\n",
       "        vertical-align: top;\n",
       "    }\n",
       "\n",
       "    .dataframe thead th {\n",
       "        text-align: right;\n",
       "    }\n",
       "</style>\n",
       "<table border=\"1\" class=\"dataframe\">\n",
       "  <thead>\n",
       "    <tr style=\"text-align: right;\">\n",
       "      <th></th>\n",
       "      <th>Name</th>\n",
       "      <th>BirthDate</th>\n",
       "      <th>Country</th>\n",
       "      <th>Gender</th>\n",
       "    </tr>\n",
       "  </thead>\n",
       "  <tbody>\n",
       "    <tr>\n",
       "      <th>0</th>\n",
       "      <td>Ava Max</td>\n",
       "      <td>1994-02-16</td>\n",
       "      <td>United States</td>\n",
       "      <td>Female</td>\n",
       "    </tr>\n",
       "    <tr>\n",
       "      <th>1</th>\n",
       "      <td>Billie Eilish</td>\n",
       "      <td>2001-12-18</td>\n",
       "      <td>United States</td>\n",
       "      <td>Female</td>\n",
       "    </tr>\n",
       "    <tr>\n",
       "      <th>2</th>\n",
       "      <td>Ariana Grande</td>\n",
       "      <td>1993-06-26</td>\n",
       "      <td>United States</td>\n",
       "      <td>Female</td>\n",
       "    </tr>\n",
       "    <tr>\n",
       "      <th>3</th>\n",
       "      <td>Tones and I</td>\n",
       "      <td>None</td>\n",
       "      <td>Australia</td>\n",
       "      <td>Female</td>\n",
       "    </tr>\n",
       "    <tr>\n",
       "      <th>4</th>\n",
       "      <td>Shawn Mendes</td>\n",
       "      <td>1998-08-08</td>\n",
       "      <td>Canada</td>\n",
       "      <td>Male</td>\n",
       "    </tr>\n",
       "    <tr>\n",
       "      <th>5</th>\n",
       "      <td>Daddy Yankee</td>\n",
       "      <td>1977-02-03</td>\n",
       "      <td>Puerto Rico</td>\n",
       "      <td>Male</td>\n",
       "    </tr>\n",
       "    <tr>\n",
       "      <th>6</th>\n",
       "      <td>Lady Gaga</td>\n",
       "      <td>1986-03-28</td>\n",
       "      <td>United States</td>\n",
       "      <td>Female</td>\n",
       "    </tr>\n",
       "    <tr>\n",
       "      <th>7</th>\n",
       "      <td>Lewis Capaldi</td>\n",
       "      <td>1996-10-17</td>\n",
       "      <td>United Kingdom</td>\n",
       "      <td>Male</td>\n",
       "    </tr>\n",
       "    <tr>\n",
       "      <th>8</th>\n",
       "      <td>Marshmello</td>\n",
       "      <td>1992-05-19</td>\n",
       "      <td>United States</td>\n",
       "      <td>Male</td>\n",
       "    </tr>\n",
       "    <tr>\n",
       "      <th>9</th>\n",
       "      <td>Post Malone</td>\n",
       "      <td>1995-07-04</td>\n",
       "      <td>United States</td>\n",
       "      <td>Male</td>\n",
       "    </tr>\n",
       "  </tbody>\n",
       "</table>\n",
       "</div>"
      ],
      "text/plain": [
       "            Name   BirthDate         Country  Gender\n",
       "0        Ava Max  1994-02-16   United States  Female\n",
       "1  Billie Eilish  2001-12-18   United States  Female\n",
       "2  Ariana Grande  1993-06-26   United States  Female\n",
       "3    Tones and I        None       Australia  Female\n",
       "4   Shawn Mendes  1998-08-08          Canada    Male\n",
       "5   Daddy Yankee  1977-02-03     Puerto Rico    Male\n",
       "6      Lady Gaga  1986-03-28   United States  Female\n",
       "7  Lewis Capaldi  1996-10-17  United Kingdom    Male\n",
       "8     Marshmello  1992-05-19   United States    Male\n",
       "9    Post Malone  1995-07-04   United States    Male"
      ]
     },
     "execution_count": 168,
     "metadata": {},
     "output_type": "execute_result"
    }
   ],
   "source": [
    "pd.DataFrame([dict1,dict2,dict3,dict4,dict5,dict6,dict7,dict8,dict9,dict10])"
   ]
  },
  {
   "cell_type": "code",
   "execution_count": null,
   "metadata": {},
   "outputs": [],
   "source": []
  }
 ],
 "metadata": {
  "kernelspec": {
   "display_name": "Python 3",
   "language": "python",
   "name": "python3"
  },
  "language_info": {
   "codemirror_mode": {
    "name": "ipython",
    "version": 3
   },
   "file_extension": ".py",
   "mimetype": "text/x-python",
   "name": "python",
   "nbconvert_exporter": "python",
   "pygments_lexer": "ipython3",
   "version": "3.7.7"
  }
 },
 "nbformat": 4,
 "nbformat_minor": 4
}
