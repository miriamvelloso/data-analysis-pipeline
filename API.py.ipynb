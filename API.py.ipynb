{
 "cells": [
  {
   "cell_type": "code",
   "execution_count": 9,
   "metadata": {},
   "outputs": [],
   "source": [
    "import pandas as pd\n",
    "import requests\n",
    "from bs4 import BeautifulSoup\n",
    "import matplotlib.pyplot as plt\n",
    "import json"
   ]
  },
  {
   "cell_type": "code",
   "execution_count": 10,
   "metadata": {},
   "outputs": [],
   "source": [
    "def getFromApi(path,queryParams={}):\n",
    "    url=f\"http://musicbrainz.org/ws/2{path}?inc=aliases&fmt=json\"\n",
    "    res = requests.get(url,params=queryParams)\n",
    "    print(res.status_code,res.url)\n",
    "    return res.json()"
   ]
  },
  {
   "cell_type": "code",
   "execution_count": 11,
   "metadata": {
    "scrolled": true
   },
   "outputs": [
    {
     "name": "stdout",
     "output_type": "stream",
     "text": [
      "200 http://musicbrainz.org/ws/2/artist/add5f522-25df-41c4-815e-0ca9f60b83e4?inc=aliases&fmt=json\n",
      "200 http://musicbrainz.org/ws/2/artist/f4abc0b5-3f7a-4eff-8f78-ac078dbce533?inc=aliases&fmt=json\n",
      "200 http://musicbrainz.org/ws/2/artist/f4fdbb4c-e4b7-47a0-b83b-d91bbfcfa387?inc=aliases&fmt=json\n",
      "200 http://musicbrainz.org/ws/2/artist/663f33f4-8e5f-4773-93ea-493a1135de9a?inc=aliases&fmt=json\n",
      "200 http://musicbrainz.org/ws/2/artist/b7d92248-97e3-4450-8057-6fe06738f735?inc=aliases&fmt=json\n",
      "200 http://musicbrainz.org/ws/2/artist/2f522f5c-111c-4ce8-8bd0-d82e97c227ad?inc=aliases&fmt=json\n",
      "200 http://musicbrainz.org/ws/2/artist/650e7db6-b795-4eb5-a702-5ea2fc46c848?inc=aliases&fmt=json\n",
      "200 http://musicbrainz.org/ws/2/artist/526aab94-697f-44a9-b630-41d1c0505953?inc=aliases&fmt=json\n",
      "200 http://musicbrainz.org/ws/2/artist/301b45a4-b8b9-410e-8344-4b4eaf96691a?inc=aliases&fmt=json\n",
      "200 http://musicbrainz.org/ws/2/artist/b1e26560-60e5-4236-bbdb-9aa5a8d5ee19?inc=aliases&fmt=json\n"
     ]
    }
   ],
   "source": [
    "Ava_Max = getFromApi(\"/artist/add5f522-25df-41c4-815e-0ca9f60b83e4\")\n",
    "Billie_Eilish = getFromApi(\"/artist/f4abc0b5-3f7a-4eff-8f78-ac078dbce533\")\n",
    "Ariana_Grande = getFromApi(\"/artist/f4fdbb4c-e4b7-47a0-b83b-d91bbfcfa387\")\n",
    "Tones_And_I = getFromApi(\"/artist/663f33f4-8e5f-4773-93ea-493a1135de9a\")\n",
    "Shawn_Mendes = getFromApi(\"/artist/b7d92248-97e3-4450-8057-6fe06738f735\")\n",
    "Daddy_Yankee = getFromApi(\"/artist/2f522f5c-111c-4ce8-8bd0-d82e97c227ad\")\n",
    "Lady_Gaga = getFromApi(\"/artist/650e7db6-b795-4eb5-a702-5ea2fc46c848\")\n",
    "Lewis_Capaldi = getFromApi(\"/artist/526aab94-697f-44a9-b630-41d1c0505953\")\n",
    "Marshmello = getFromApi(\"/artist/301b45a4-b8b9-410e-8344-4b4eaf96691a\")\n",
    "Post_Malone = getFromApi(\"/artist/b1e26560-60e5-4236-bbdb-9aa5a8d5ee19\")\n"
   ]
  },
  {
   "cell_type": "code",
   "execution_count": 12,
   "metadata": {},
   "outputs": [
    {
     "data": {
      "text/plain": [
       "{'gender-id': '93452b5a-a947-30c8-934f-6a4056b151c2',\n",
       " 'aliases': [{'begin': None,\n",
       "   'type': 'Legal name',\n",
       "   'sort-name': 'Koci, Amanda Ava',\n",
       "   'locale': None,\n",
       "   'type-id': 'd4dcd0c0-b341-3612-a332-c0ce797b25cf',\n",
       "   'primary': None,\n",
       "   'name': 'Amanda Ava Koci',\n",
       "   'end': None,\n",
       "   'ended': False}],\n",
       " 'area': {'iso-3166-1-codes': ['US'],\n",
       "  'type-id': None,\n",
       "  'name': 'United States',\n",
       "  'id': '489ce91b-6658-3307-9877-795b68554c98',\n",
       "  'disambiguation': '',\n",
       "  'type': None,\n",
       "  'sort-name': 'United States'},\n",
       " 'disambiguation': '',\n",
       " 'type': 'Person',\n",
       " 'sort-name': 'Ava Max',\n",
       " 'isnis': [],\n",
       " 'end_area': None,\n",
       " 'id': 'add5f522-25df-41c4-815e-0ca9f60b83e4',\n",
       " 'life-span': {'begin': '1994-02-16', 'end': None, 'ended': False},\n",
       " 'begin-area': {'type-id': None,\n",
       "  'name': 'Milwaukee',\n",
       "  'disambiguation': '',\n",
       "  'id': '4dc3fa97-cf9b-43f0-bec9-fcc52d6215d5',\n",
       "  'type': None,\n",
       "  'sort-name': 'Milwaukee'},\n",
       " 'begin_area': {'type-id': None,\n",
       "  'name': 'Milwaukee',\n",
       "  'disambiguation': '',\n",
       "  'id': '4dc3fa97-cf9b-43f0-bec9-fcc52d6215d5',\n",
       "  'type': None,\n",
       "  'sort-name': 'Milwaukee'},\n",
       " 'type-id': 'b6e035f4-3ce9-331c-97df-83397230b0df',\n",
       " 'ipis': [],\n",
       " 'gender': 'Female',\n",
       " 'country': 'US',\n",
       " 'end-area': None,\n",
       " 'name': 'Ava Max'}"
      ]
     },
     "execution_count": 12,
     "metadata": {},
     "output_type": "execute_result"
    }
   ],
   "source": [
    "Ava_Max\n"
   ]
  },
  {
   "cell_type": "code",
   "execution_count": 13,
   "metadata": {},
   "outputs": [],
   "source": [
    "def ArtistDetails(data):\n",
    "    for artist in data:\n",
    "        return{\n",
    "            \"Name\":data['name'],\n",
    "            \"BirthDate\":data.get('life-span', {}).get('begin'),\n",
    "            \"Country\":data.get('area', {}).get('sort-name'),\n",
    "            \"Gender\":data['gender']\n",
    "        }\n"
   ]
  },
  {
   "cell_type": "code",
   "execution_count": 14,
   "metadata": {
    "scrolled": true
   },
   "outputs": [],
   "source": [
    "dict1 = ArtistDetails(Ava_Max)\n",
    "dict2 = ArtistDetails(Billie_Eilish)\n",
    "dict3 = ArtistDetails(Ariana_Grande)\n",
    "dict4 = ArtistDetails(Tones_And_I)\n",
    "dict5 = ArtistDetails(Shawn_Mendes)\n",
    "dict6 = ArtistDetails(Daddy_Yankee)\n",
    "dict7= ArtistDetails(Lady_Gaga)\n",
    "dict8 = ArtistDetails(Lewis_Capaldi)\n",
    "dict9 = ArtistDetails(Marshmello)\n",
    "dict10 = ArtistDetails(Post_Malone)"
   ]
  },
  {
   "cell_type": "code",
   "execution_count": 21,
   "metadata": {},
   "outputs": [],
   "source": [
    "df = pd.DataFrame([dict1,dict2,dict3,dict4,dict5,dict6,dict7,dict8,dict9,dict10])"
   ]
  },
  {
   "cell_type": "code",
   "execution_count": 22,
   "metadata": {},
   "outputs": [],
   "source": [
    "df_import = pd.read_csv('Input/artists_names.csv',encoding='latin-1')"
   ]
  },
  {
   "cell_type": "code",
   "execution_count": 23,
   "metadata": {},
   "outputs": [],
   "source": [
    "df_import = df_import.rename(columns={'Artist': 'Name'})"
   ]
  },
  {
   "cell_type": "code",
   "execution_count": 20,
   "metadata": {},
   "outputs": [
    {
     "data": {
      "text/html": [
       "<div>\n",
       "<style scoped>\n",
       "    .dataframe tbody tr th:only-of-type {\n",
       "        vertical-align: middle;\n",
       "    }\n",
       "\n",
       "    .dataframe tbody tr th {\n",
       "        vertical-align: top;\n",
       "    }\n",
       "\n",
       "    .dataframe thead th {\n",
       "        text-align: right;\n",
       "    }\n",
       "</style>\n",
       "<table border=\"1\" class=\"dataframe\">\n",
       "  <thead>\n",
       "    <tr style=\"text-align: right;\">\n",
       "      <th></th>\n",
       "      <th>song_name</th>\n",
       "      <th>Name</th>\n",
       "      <th>Streams</th>\n",
       "    </tr>\n",
       "  </thead>\n",
       "  <tbody>\n",
       "    <tr>\n",
       "      <th>0</th>\n",
       "      <td>7 rings</td>\n",
       "      <td>Ariana Grande</td>\n",
       "      <td>789094044</td>\n",
       "    </tr>\n",
       "    <tr>\n",
       "      <th>1</th>\n",
       "      <td>Con Calma</td>\n",
       "      <td>Daddy Yankee</td>\n",
       "      <td>715027898</td>\n",
       "    </tr>\n",
       "    <tr>\n",
       "      <th>2</th>\n",
       "      <td>Dance Monkey</td>\n",
       "      <td>Tones and I</td>\n",
       "      <td>764208309</td>\n",
       "    </tr>\n",
       "    <tr>\n",
       "      <th>3</th>\n",
       "      <td>Happier</td>\n",
       "      <td>Marshmello</td>\n",
       "      <td>620829467</td>\n",
       "    </tr>\n",
       "    <tr>\n",
       "      <th>4</th>\n",
       "      <td>SeÃÂ±orita</td>\n",
       "      <td>Shawn Mendes</td>\n",
       "      <td>763064359</td>\n",
       "    </tr>\n",
       "    <tr>\n",
       "      <th>5</th>\n",
       "      <td>Shallow</td>\n",
       "      <td>Lady Gaga</td>\n",
       "      <td>714097238</td>\n",
       "    </tr>\n",
       "    <tr>\n",
       "      <th>6</th>\n",
       "      <td>Someone You Loved</td>\n",
       "      <td>Lewis Capaldi</td>\n",
       "      <td>661930419</td>\n",
       "    </tr>\n",
       "    <tr>\n",
       "      <th>7</th>\n",
       "      <td>Sweet but Psycho</td>\n",
       "      <td>Ava Max</td>\n",
       "      <td>1166185736</td>\n",
       "    </tr>\n",
       "    <tr>\n",
       "      <th>8</th>\n",
       "      <td>Wow.</td>\n",
       "      <td>Post Malone</td>\n",
       "      <td>615519053</td>\n",
       "    </tr>\n",
       "    <tr>\n",
       "      <th>9</th>\n",
       "      <td>bad guy</td>\n",
       "      <td>Billie Eilish</td>\n",
       "      <td>1052358787</td>\n",
       "    </tr>\n",
       "  </tbody>\n",
       "</table>\n",
       "</div>"
      ],
      "text/plain": [
       "           song_name           Name     Streams\n",
       "0            7 rings  Ariana Grande   789094044\n",
       "1          Con Calma   Daddy Yankee   715027898\n",
       "2       Dance Monkey    Tones and I   764208309\n",
       "3            Happier     Marshmello   620829467\n",
       "4        SeÃÂ±orita   Shawn Mendes   763064359\n",
       "5            Shallow      Lady Gaga   714097238\n",
       "6  Someone You Loved  Lewis Capaldi   661930419\n",
       "7   Sweet but Psycho        Ava Max  1166185736\n",
       "8               Wow.    Post Malone   615519053\n",
       "9            bad guy  Billie Eilish  1052358787"
      ]
     },
     "execution_count": 20,
     "metadata": {},
     "output_type": "execute_result"
    }
   ],
   "source": [
    "df_import"
   ]
  },
  {
   "cell_type": "code",
   "execution_count": 37,
   "metadata": {},
   "outputs": [
    {
     "data": {
      "text/html": [
       "<div>\n",
       "<style scoped>\n",
       "    .dataframe tbody tr th:only-of-type {\n",
       "        vertical-align: middle;\n",
       "    }\n",
       "\n",
       "    .dataframe tbody tr th {\n",
       "        vertical-align: top;\n",
       "    }\n",
       "\n",
       "    .dataframe thead th {\n",
       "        text-align: right;\n",
       "    }\n",
       "</style>\n",
       "<table border=\"1\" class=\"dataframe\">\n",
       "  <thead>\n",
       "    <tr style=\"text-align: right;\">\n",
       "      <th></th>\n",
       "      <th>song_name</th>\n",
       "      <th>Name</th>\n",
       "      <th>Streams</th>\n",
       "      <th>BirthDate</th>\n",
       "      <th>Country</th>\n",
       "      <th>Gender</th>\n",
       "    </tr>\n",
       "  </thead>\n",
       "  <tbody>\n",
       "    <tr>\n",
       "      <th>0</th>\n",
       "      <td>7 rings</td>\n",
       "      <td>Ariana Grande</td>\n",
       "      <td>789094044</td>\n",
       "      <td>1993-06-26</td>\n",
       "      <td>United States</td>\n",
       "      <td>Female</td>\n",
       "    </tr>\n",
       "    <tr>\n",
       "      <th>1</th>\n",
       "      <td>Con Calma</td>\n",
       "      <td>Daddy Yankee</td>\n",
       "      <td>715027898</td>\n",
       "      <td>1977-02-03</td>\n",
       "      <td>Puerto Rico</td>\n",
       "      <td>Male</td>\n",
       "    </tr>\n",
       "    <tr>\n",
       "      <th>2</th>\n",
       "      <td>Dance Monkey</td>\n",
       "      <td>Tones and I</td>\n",
       "      <td>764208309</td>\n",
       "      <td>None</td>\n",
       "      <td>Australia</td>\n",
       "      <td>Female</td>\n",
       "    </tr>\n",
       "    <tr>\n",
       "      <th>3</th>\n",
       "      <td>Happier</td>\n",
       "      <td>Marshmello</td>\n",
       "      <td>620829467</td>\n",
       "      <td>1992-05-19</td>\n",
       "      <td>United States</td>\n",
       "      <td>Male</td>\n",
       "    </tr>\n",
       "    <tr>\n",
       "      <th>4</th>\n",
       "      <td>SeÃÂ±orita</td>\n",
       "      <td>Shawn Mendes</td>\n",
       "      <td>763064359</td>\n",
       "      <td>1998-08-08</td>\n",
       "      <td>Canada</td>\n",
       "      <td>Male</td>\n",
       "    </tr>\n",
       "    <tr>\n",
       "      <th>5</th>\n",
       "      <td>Shallow</td>\n",
       "      <td>Lady Gaga</td>\n",
       "      <td>714097238</td>\n",
       "      <td>1986-03-28</td>\n",
       "      <td>United States</td>\n",
       "      <td>Female</td>\n",
       "    </tr>\n",
       "    <tr>\n",
       "      <th>6</th>\n",
       "      <td>Someone You Loved</td>\n",
       "      <td>Lewis Capaldi</td>\n",
       "      <td>661930419</td>\n",
       "      <td>1996-10-17</td>\n",
       "      <td>United Kingdom</td>\n",
       "      <td>Male</td>\n",
       "    </tr>\n",
       "    <tr>\n",
       "      <th>7</th>\n",
       "      <td>Sweet but Psycho</td>\n",
       "      <td>Ava Max</td>\n",
       "      <td>1166185736</td>\n",
       "      <td>1994-02-16</td>\n",
       "      <td>United States</td>\n",
       "      <td>Female</td>\n",
       "    </tr>\n",
       "    <tr>\n",
       "      <th>8</th>\n",
       "      <td>Wow.</td>\n",
       "      <td>Post Malone</td>\n",
       "      <td>615519053</td>\n",
       "      <td>1995-07-04</td>\n",
       "      <td>United States</td>\n",
       "      <td>Male</td>\n",
       "    </tr>\n",
       "    <tr>\n",
       "      <th>9</th>\n",
       "      <td>bad guy</td>\n",
       "      <td>Billie Eilish</td>\n",
       "      <td>1052358787</td>\n",
       "      <td>2001-12-18</td>\n",
       "      <td>United States</td>\n",
       "      <td>Female</td>\n",
       "    </tr>\n",
       "  </tbody>\n",
       "</table>\n",
       "</div>"
      ],
      "text/plain": [
       "           song_name           Name     Streams   BirthDate         Country  \\\n",
       "0            7 rings  Ariana Grande   789094044  1993-06-26   United States   \n",
       "1          Con Calma   Daddy Yankee   715027898  1977-02-03     Puerto Rico   \n",
       "2       Dance Monkey    Tones and I   764208309        None       Australia   \n",
       "3            Happier     Marshmello   620829467  1992-05-19   United States   \n",
       "4        SeÃÂ±orita   Shawn Mendes   763064359  1998-08-08          Canada   \n",
       "5            Shallow      Lady Gaga   714097238  1986-03-28   United States   \n",
       "6  Someone You Loved  Lewis Capaldi   661930419  1996-10-17  United Kingdom   \n",
       "7   Sweet but Psycho        Ava Max  1166185736  1994-02-16   United States   \n",
       "8               Wow.    Post Malone   615519053  1995-07-04   United States   \n",
       "9            bad guy  Billie Eilish  1052358787  2001-12-18   United States   \n",
       "\n",
       "   Gender  \n",
       "0  Female  \n",
       "1    Male  \n",
       "2  Female  \n",
       "3    Male  \n",
       "4    Male  \n",
       "5  Female  \n",
       "6    Male  \n",
       "7  Female  \n",
       "8    Male  \n",
       "9  Female  "
      ]
     },
     "execution_count": 37,
     "metadata": {},
     "output_type": "execute_result"
    }
   ],
   "source": [
    "df_merge = pd.merge(df_import, df, on='Name')\n",
    "df_merge"
   ]
  },
  {
   "cell_type": "code",
   "execution_count": 38,
   "metadata": {},
   "outputs": [
    {
     "ename": "KeyError",
     "evalue": "'df_merge'",
     "output_type": "error",
     "traceback": [
      "\u001b[0;31m---------------------------------------------------------------------------\u001b[0m",
      "\u001b[0;31mKeyError\u001b[0m                                  Traceback (most recent call last)",
      "\u001b[0;32m/usr/local/lib/python3.7/site-packages/pandas/core/indexes/base.py\u001b[0m in \u001b[0;36mget_loc\u001b[0;34m(self, key, method, tolerance)\u001b[0m\n\u001b[1;32m   2645\u001b[0m             \u001b[0;32mtry\u001b[0m\u001b[0;34m:\u001b[0m\u001b[0;34m\u001b[0m\u001b[0;34m\u001b[0m\u001b[0m\n\u001b[0;32m-> 2646\u001b[0;31m                 \u001b[0;32mreturn\u001b[0m \u001b[0mself\u001b[0m\u001b[0;34m.\u001b[0m\u001b[0m_engine\u001b[0m\u001b[0;34m.\u001b[0m\u001b[0mget_loc\u001b[0m\u001b[0;34m(\u001b[0m\u001b[0mkey\u001b[0m\u001b[0;34m)\u001b[0m\u001b[0;34m\u001b[0m\u001b[0;34m\u001b[0m\u001b[0m\n\u001b[0m\u001b[1;32m   2647\u001b[0m             \u001b[0;32mexcept\u001b[0m \u001b[0mKeyError\u001b[0m\u001b[0;34m:\u001b[0m\u001b[0;34m\u001b[0m\u001b[0;34m\u001b[0m\u001b[0m\n",
      "\u001b[0;32mpandas/_libs/index.pyx\u001b[0m in \u001b[0;36mpandas._libs.index.IndexEngine.get_loc\u001b[0;34m()\u001b[0m\n",
      "\u001b[0;32mpandas/_libs/index.pyx\u001b[0m in \u001b[0;36mpandas._libs.index.IndexEngine.get_loc\u001b[0;34m()\u001b[0m\n",
      "\u001b[0;32mpandas/_libs/hashtable_class_helper.pxi\u001b[0m in \u001b[0;36mpandas._libs.hashtable.PyObjectHashTable.get_item\u001b[0;34m()\u001b[0m\n",
      "\u001b[0;32mpandas/_libs/hashtable_class_helper.pxi\u001b[0m in \u001b[0;36mpandas._libs.hashtable.PyObjectHashTable.get_item\u001b[0;34m()\u001b[0m\n",
      "\u001b[0;31mKeyError\u001b[0m: 'df_merge'",
      "\nDuring handling of the above exception, another exception occurred:\n",
      "\u001b[0;31mKeyError\u001b[0m                                  Traceback (most recent call last)",
      "\u001b[0;32m<ipython-input-38-a345a44207aa>\u001b[0m in \u001b[0;36m<module>\u001b[0;34m\u001b[0m\n\u001b[0;32m----> 1\u001b[0;31m \u001b[0mdf\u001b[0m\u001b[0;34m[\u001b[0m\u001b[0;34m'df_merge'\u001b[0m\u001b[0;34m]\u001b[0m \u001b[0;34m=\u001b[0m \u001b[0mdf\u001b[0m\u001b[0;34m[\u001b[0m\u001b[0;34m'df_merge'\u001b[0m\u001b[0;34m]\u001b[0m\u001b[0;34m.\u001b[0m\u001b[0mstr\u001b[0m\u001b[0;34m.\u001b[0m\u001b[0mreplace\u001b[0m\u001b[0;34m(\u001b[0m\u001b[0;34mr'SeÃÂ±orita'\u001b[0m\u001b[0;34m,\u001b[0m \u001b[0;34m'Senorita'\u001b[0m\u001b[0;34m)\u001b[0m\u001b[0;34m.\u001b[0m\u001b[0mastype\u001b[0m\u001b[0;34m(\u001b[0m\u001b[0;34m'string'\u001b[0m\u001b[0;34m)\u001b[0m\u001b[0;34m\u001b[0m\u001b[0;34m\u001b[0m\u001b[0m\n\u001b[0m",
      "\u001b[0;32m/usr/local/lib/python3.7/site-packages/pandas/core/frame.py\u001b[0m in \u001b[0;36m__getitem__\u001b[0;34m(self, key)\u001b[0m\n\u001b[1;32m   2798\u001b[0m             \u001b[0;32mif\u001b[0m \u001b[0mself\u001b[0m\u001b[0;34m.\u001b[0m\u001b[0mcolumns\u001b[0m\u001b[0;34m.\u001b[0m\u001b[0mnlevels\u001b[0m \u001b[0;34m>\u001b[0m \u001b[0;36m1\u001b[0m\u001b[0;34m:\u001b[0m\u001b[0;34m\u001b[0m\u001b[0;34m\u001b[0m\u001b[0m\n\u001b[1;32m   2799\u001b[0m                 \u001b[0;32mreturn\u001b[0m \u001b[0mself\u001b[0m\u001b[0;34m.\u001b[0m\u001b[0m_getitem_multilevel\u001b[0m\u001b[0;34m(\u001b[0m\u001b[0mkey\u001b[0m\u001b[0;34m)\u001b[0m\u001b[0;34m\u001b[0m\u001b[0;34m\u001b[0m\u001b[0m\n\u001b[0;32m-> 2800\u001b[0;31m             \u001b[0mindexer\u001b[0m \u001b[0;34m=\u001b[0m \u001b[0mself\u001b[0m\u001b[0;34m.\u001b[0m\u001b[0mcolumns\u001b[0m\u001b[0;34m.\u001b[0m\u001b[0mget_loc\u001b[0m\u001b[0;34m(\u001b[0m\u001b[0mkey\u001b[0m\u001b[0;34m)\u001b[0m\u001b[0;34m\u001b[0m\u001b[0;34m\u001b[0m\u001b[0m\n\u001b[0m\u001b[1;32m   2801\u001b[0m             \u001b[0;32mif\u001b[0m \u001b[0mis_integer\u001b[0m\u001b[0;34m(\u001b[0m\u001b[0mindexer\u001b[0m\u001b[0;34m)\u001b[0m\u001b[0;34m:\u001b[0m\u001b[0;34m\u001b[0m\u001b[0;34m\u001b[0m\u001b[0m\n\u001b[1;32m   2802\u001b[0m                 \u001b[0mindexer\u001b[0m \u001b[0;34m=\u001b[0m \u001b[0;34m[\u001b[0m\u001b[0mindexer\u001b[0m\u001b[0;34m]\u001b[0m\u001b[0;34m\u001b[0m\u001b[0;34m\u001b[0m\u001b[0m\n",
      "\u001b[0;32m/usr/local/lib/python3.7/site-packages/pandas/core/indexes/base.py\u001b[0m in \u001b[0;36mget_loc\u001b[0;34m(self, key, method, tolerance)\u001b[0m\n\u001b[1;32m   2646\u001b[0m                 \u001b[0;32mreturn\u001b[0m \u001b[0mself\u001b[0m\u001b[0;34m.\u001b[0m\u001b[0m_engine\u001b[0m\u001b[0;34m.\u001b[0m\u001b[0mget_loc\u001b[0m\u001b[0;34m(\u001b[0m\u001b[0mkey\u001b[0m\u001b[0;34m)\u001b[0m\u001b[0;34m\u001b[0m\u001b[0;34m\u001b[0m\u001b[0m\n\u001b[1;32m   2647\u001b[0m             \u001b[0;32mexcept\u001b[0m \u001b[0mKeyError\u001b[0m\u001b[0;34m:\u001b[0m\u001b[0;34m\u001b[0m\u001b[0;34m\u001b[0m\u001b[0m\n\u001b[0;32m-> 2648\u001b[0;31m                 \u001b[0;32mreturn\u001b[0m \u001b[0mself\u001b[0m\u001b[0;34m.\u001b[0m\u001b[0m_engine\u001b[0m\u001b[0;34m.\u001b[0m\u001b[0mget_loc\u001b[0m\u001b[0;34m(\u001b[0m\u001b[0mself\u001b[0m\u001b[0;34m.\u001b[0m\u001b[0m_maybe_cast_indexer\u001b[0m\u001b[0;34m(\u001b[0m\u001b[0mkey\u001b[0m\u001b[0;34m)\u001b[0m\u001b[0;34m)\u001b[0m\u001b[0;34m\u001b[0m\u001b[0;34m\u001b[0m\u001b[0m\n\u001b[0m\u001b[1;32m   2649\u001b[0m         \u001b[0mindexer\u001b[0m \u001b[0;34m=\u001b[0m \u001b[0mself\u001b[0m\u001b[0;34m.\u001b[0m\u001b[0mget_indexer\u001b[0m\u001b[0;34m(\u001b[0m\u001b[0;34m[\u001b[0m\u001b[0mkey\u001b[0m\u001b[0;34m]\u001b[0m\u001b[0;34m,\u001b[0m \u001b[0mmethod\u001b[0m\u001b[0;34m=\u001b[0m\u001b[0mmethod\u001b[0m\u001b[0;34m,\u001b[0m \u001b[0mtolerance\u001b[0m\u001b[0;34m=\u001b[0m\u001b[0mtolerance\u001b[0m\u001b[0;34m)\u001b[0m\u001b[0;34m\u001b[0m\u001b[0;34m\u001b[0m\u001b[0m\n\u001b[1;32m   2650\u001b[0m         \u001b[0;32mif\u001b[0m \u001b[0mindexer\u001b[0m\u001b[0;34m.\u001b[0m\u001b[0mndim\u001b[0m \u001b[0;34m>\u001b[0m \u001b[0;36m1\u001b[0m \u001b[0;32mor\u001b[0m \u001b[0mindexer\u001b[0m\u001b[0;34m.\u001b[0m\u001b[0msize\u001b[0m \u001b[0;34m>\u001b[0m \u001b[0;36m1\u001b[0m\u001b[0;34m:\u001b[0m\u001b[0;34m\u001b[0m\u001b[0;34m\u001b[0m\u001b[0m\n",
      "\u001b[0;32mpandas/_libs/index.pyx\u001b[0m in \u001b[0;36mpandas._libs.index.IndexEngine.get_loc\u001b[0;34m()\u001b[0m\n",
      "\u001b[0;32mpandas/_libs/index.pyx\u001b[0m in \u001b[0;36mpandas._libs.index.IndexEngine.get_loc\u001b[0;34m()\u001b[0m\n",
      "\u001b[0;32mpandas/_libs/hashtable_class_helper.pxi\u001b[0m in \u001b[0;36mpandas._libs.hashtable.PyObjectHashTable.get_item\u001b[0;34m()\u001b[0m\n",
      "\u001b[0;32mpandas/_libs/hashtable_class_helper.pxi\u001b[0m in \u001b[0;36mpandas._libs.hashtable.PyObjectHashTable.get_item\u001b[0;34m()\u001b[0m\n",
      "\u001b[0;31mKeyError\u001b[0m: 'df_merge'"
     ]
    }
   ],
   "source": [
    "df['df_merge'] = df['df_merge'].str.replace(r'SeÃÂ±orita', 'Senorita').astype('string')"
   ]
  },
  {
   "cell_type": "code",
   "execution_count": null,
   "metadata": {},
   "outputs": [],
   "source": []
  }
 ],
 "metadata": {
  "kernelspec": {
   "display_name": "Python 3",
   "language": "python",
   "name": "python3"
  },
  "language_info": {
   "codemirror_mode": {
    "name": "ipython",
    "version": 3
   },
   "file_extension": ".py",
   "mimetype": "text/x-python",
   "name": "python",
   "nbconvert_exporter": "python",
   "pygments_lexer": "ipython3",
   "version": "3.7.7"
  }
 },
 "nbformat": 4,
 "nbformat_minor": 4
}
